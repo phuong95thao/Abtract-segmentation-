{
  "nbformat": 4,
  "nbformat_minor": 0,
  "metadata": {
    "colab": {
      "provenance": [],
      "machine_shape": "hm",
      "gpuType": "T4"
    },
    "kernelspec": {
      "name": "python3",
      "display_name": "Python 3"
    },
    "language_info": {
      "name": "python"
    },
    "accelerator": "GPU"
  },
  "cells": [
    {
      "cell_type": "markdown",
      "source": [
        "Abstract Segmentation with NLP"
      ],
      "metadata": {
        "id": "NgG8Qhhfl4mn"
      }
    },
    {
      "cell_type": "markdown",
      "source": [
        "Research papers often feature abstracts filled with complex academic terminology, which can be time-consuming for readers and researchers to decipher. To expedite the comprehension of experimental or research concepts, it's beneficial for readers to be able to categorize the abstract into four sections: background, methods, results, and conclusions. It is prelevant to encounter papers where these sections are not clearly delineated. We propose harnessing Natural Language Processing (NLP) to automatically segment abstracts into multiple sections in a well-organized structure."
      ],
      "metadata": {
        "id": "o15rr0VBiIx5"
      }
    },
    {
      "cell_type": "markdown",
      "source": [
        "Importing data"
      ],
      "metadata": {
        "id": "fKyojp14mpCE"
      }
    },
    {
      "cell_type": "code",
      "source": [
        "data_dir = \"pubmed-rct/PubMed_20k_RCT_numbers_replaced_with_at_sign/\""
      ],
      "metadata": {
        "id": "geA4SLBl9QHq"
      },
      "execution_count": null,
      "outputs": []
    },
    {
      "cell_type": "code",
      "source": [
        "import os\n",
        "filenames = [data_dir + filename for filename in os.listdir(data_dir)]\n",
        "filenames"
      ],
      "metadata": {
        "colab": {
          "base_uri": "https://localhost:8080/"
        },
        "id": "C6EoiZuT9Jxq",
        "outputId": "1a6834e4-ad2f-41ad-8fe2-0a82a628f1ec"
      },
      "execution_count": null,
      "outputs": [
        {
          "output_type": "execute_result",
          "data": {
            "text/plain": [
              "['pubmed-rct/PubMed_20k_RCT_numbers_replaced_with_at_sign/train.txt',\n",
              " 'pubmed-rct/PubMed_20k_RCT_numbers_replaced_with_at_sign/test.txt',\n",
              " 'pubmed-rct/PubMed_20k_RCT_numbers_replaced_with_at_sign/dev.txt']"
            ]
          },
          "metadata": {},
          "execution_count": 7
        }
      ]
    },
    {
      "cell_type": "markdown",
      "source": [
        "## 1/ Preprocessing data"
      ],
      "metadata": {
        "id": "ndeIM5Ng9qrN"
      }
    },
    {
      "cell_type": "code",
      "source": [
        "def get_lines(filename):\n",
        "  with open(filename, \"r\") as f:\n",
        "    return f.readlines()"
      ],
      "metadata": {
        "id": "WJGJ-2VC9b_b"
      },
      "execution_count": null,
      "outputs": []
    },
    {
      "cell_type": "code",
      "source": [
        "def preprocessing_line(filename):\n",
        "  sentence_bag = ''\n",
        "  sentence_file = []\n",
        "  input_lines = get_lines(filename)\n",
        "  for sentence in input_lines:\n",
        "    if sentence.startswith(\"###\"):\n",
        "      sentence_bag = ''\n",
        "    elif sentence.isspace():\n",
        "      sentence_split_space = sentence_bag.splitlines()\n",
        "\n",
        "      for index, sub_sentence in enumerate(sentence_split_space):\n",
        "        sentence_sub_bag = {}\n",
        "        split_sub_sentence = sub_sentence.split(\"\\t\")\n",
        "        sentence_sub_bag['target'] = split_sub_sentence[0] # get the target label\n",
        "        sentence_sub_bag['text'] = split_sub_sentence[1].lower() # get the target text\n",
        "        sentence_sub_bag['line_number'] = index # get the number of line\n",
        "        sentence_sub_bag['total_line'] = len(sentence_split_space) # get the total words per sample\n",
        "        sentence_file.append(sentence_sub_bag)\n",
        "    else:\n",
        "      sentence_bag += sentence\n",
        "  return sentence_file"
      ],
      "metadata": {
        "id": "s5lvtd_--Qia"
      },
      "execution_count": null,
      "outputs": []
    },
    {
      "cell_type": "code",
      "source": [
        "import pandas as pd\n",
        "train_df = pd.DataFrame(preprocessing_line(data_dir + \"train.txt\"))\n",
        "test_df = pd.DataFrame(preprocessing_line(data_dir + \"test.txt\"))\n",
        "val_df = pd.DataFrame(preprocessing_line(data_dir + \"test.txt\"))"
      ],
      "metadata": {
        "id": "iHrKfHZoCMD6"
      },
      "execution_count": null,
      "outputs": []
    },
    {
      "cell_type": "code",
      "source": [
        "train_df.head(15)"
      ],
      "metadata": {
        "colab": {
          "base_uri": "https://localhost:8080/",
          "height": 780
        },
        "id": "X-kHidBFmqe_",
        "outputId": "c124eb9f-d632-45c9-cb68-0ad490cc7c81"
      },
      "execution_count": null,
      "outputs": [
        {
          "output_type": "execute_result",
          "data": {
            "text/plain": [
              "         target                                               text  \\\n",
              "0     OBJECTIVE  to investigate the efficacy of @ weeks of dail...   \n",
              "1       METHODS  a total of @ patients with primary knee oa wer...   \n",
              "2       METHODS  outcome measures included pain reduction and i...   \n",
              "3       METHODS  pain was assessed using the visual analog pain...   \n",
              "4       METHODS  secondary outcome measures included the wester...   \n",
              "5       METHODS  serum levels of interleukin @ ( il-@ ) , il-@ ...   \n",
              "6       RESULTS  there was a clinically relevant reduction in t...   \n",
              "7       RESULTS  the mean difference between treatment arms ( @...   \n",
              "8       RESULTS  further , there was a clinically relevant redu...   \n",
              "9       RESULTS  these differences remained significant at @ we...   \n",
              "10      RESULTS  the outcome measures in rheumatology clinical ...   \n",
              "11  CONCLUSIONS  low-dose oral prednisolone had both a short-te...   \n",
              "12   BACKGROUND  emotional eating is associated with overeating...   \n",
              "13   BACKGROUND  yet , empirical evidence for individual ( trai...   \n",
              "14    OBJECTIVE  the aim of this study was to test if attention...   \n",
              "\n",
              "    line_number  total_line  \n",
              "0             0          12  \n",
              "1             1          12  \n",
              "2             2          12  \n",
              "3             3          12  \n",
              "4             4          12  \n",
              "5             5          12  \n",
              "6             6          12  \n",
              "7             7          12  \n",
              "8             8          12  \n",
              "9             9          12  \n",
              "10           10          12  \n",
              "11           11          12  \n",
              "12            0          11  \n",
              "13            1          11  \n",
              "14            2          11  "
            ],
            "text/html": [
              "\n",
              "  <div id=\"df-c948d679-331e-4712-b0aa-32db0e2100fe\" class=\"colab-df-container\">\n",
              "    <div>\n",
              "<style scoped>\n",
              "    .dataframe tbody tr th:only-of-type {\n",
              "        vertical-align: middle;\n",
              "    }\n",
              "\n",
              "    .dataframe tbody tr th {\n",
              "        vertical-align: top;\n",
              "    }\n",
              "\n",
              "    .dataframe thead th {\n",
              "        text-align: right;\n",
              "    }\n",
              "</style>\n",
              "<table border=\"1\" class=\"dataframe\">\n",
              "  <thead>\n",
              "    <tr style=\"text-align: right;\">\n",
              "      <th></th>\n",
              "      <th>target</th>\n",
              "      <th>text</th>\n",
              "      <th>line_number</th>\n",
              "      <th>total_line</th>\n",
              "    </tr>\n",
              "  </thead>\n",
              "  <tbody>\n",
              "    <tr>\n",
              "      <th>0</th>\n",
              "      <td>OBJECTIVE</td>\n",
              "      <td>to investigate the efficacy of @ weeks of dail...</td>\n",
              "      <td>0</td>\n",
              "      <td>12</td>\n",
              "    </tr>\n",
              "    <tr>\n",
              "      <th>1</th>\n",
              "      <td>METHODS</td>\n",
              "      <td>a total of @ patients with primary knee oa wer...</td>\n",
              "      <td>1</td>\n",
              "      <td>12</td>\n",
              "    </tr>\n",
              "    <tr>\n",
              "      <th>2</th>\n",
              "      <td>METHODS</td>\n",
              "      <td>outcome measures included pain reduction and i...</td>\n",
              "      <td>2</td>\n",
              "      <td>12</td>\n",
              "    </tr>\n",
              "    <tr>\n",
              "      <th>3</th>\n",
              "      <td>METHODS</td>\n",
              "      <td>pain was assessed using the visual analog pain...</td>\n",
              "      <td>3</td>\n",
              "      <td>12</td>\n",
              "    </tr>\n",
              "    <tr>\n",
              "      <th>4</th>\n",
              "      <td>METHODS</td>\n",
              "      <td>secondary outcome measures included the wester...</td>\n",
              "      <td>4</td>\n",
              "      <td>12</td>\n",
              "    </tr>\n",
              "    <tr>\n",
              "      <th>5</th>\n",
              "      <td>METHODS</td>\n",
              "      <td>serum levels of interleukin @ ( il-@ ) , il-@ ...</td>\n",
              "      <td>5</td>\n",
              "      <td>12</td>\n",
              "    </tr>\n",
              "    <tr>\n",
              "      <th>6</th>\n",
              "      <td>RESULTS</td>\n",
              "      <td>there was a clinically relevant reduction in t...</td>\n",
              "      <td>6</td>\n",
              "      <td>12</td>\n",
              "    </tr>\n",
              "    <tr>\n",
              "      <th>7</th>\n",
              "      <td>RESULTS</td>\n",
              "      <td>the mean difference between treatment arms ( @...</td>\n",
              "      <td>7</td>\n",
              "      <td>12</td>\n",
              "    </tr>\n",
              "    <tr>\n",
              "      <th>8</th>\n",
              "      <td>RESULTS</td>\n",
              "      <td>further , there was a clinically relevant redu...</td>\n",
              "      <td>8</td>\n",
              "      <td>12</td>\n",
              "    </tr>\n",
              "    <tr>\n",
              "      <th>9</th>\n",
              "      <td>RESULTS</td>\n",
              "      <td>these differences remained significant at @ we...</td>\n",
              "      <td>9</td>\n",
              "      <td>12</td>\n",
              "    </tr>\n",
              "    <tr>\n",
              "      <th>10</th>\n",
              "      <td>RESULTS</td>\n",
              "      <td>the outcome measures in rheumatology clinical ...</td>\n",
              "      <td>10</td>\n",
              "      <td>12</td>\n",
              "    </tr>\n",
              "    <tr>\n",
              "      <th>11</th>\n",
              "      <td>CONCLUSIONS</td>\n",
              "      <td>low-dose oral prednisolone had both a short-te...</td>\n",
              "      <td>11</td>\n",
              "      <td>12</td>\n",
              "    </tr>\n",
              "    <tr>\n",
              "      <th>12</th>\n",
              "      <td>BACKGROUND</td>\n",
              "      <td>emotional eating is associated with overeating...</td>\n",
              "      <td>0</td>\n",
              "      <td>11</td>\n",
              "    </tr>\n",
              "    <tr>\n",
              "      <th>13</th>\n",
              "      <td>BACKGROUND</td>\n",
              "      <td>yet , empirical evidence for individual ( trai...</td>\n",
              "      <td>1</td>\n",
              "      <td>11</td>\n",
              "    </tr>\n",
              "    <tr>\n",
              "      <th>14</th>\n",
              "      <td>OBJECTIVE</td>\n",
              "      <td>the aim of this study was to test if attention...</td>\n",
              "      <td>2</td>\n",
              "      <td>11</td>\n",
              "    </tr>\n",
              "  </tbody>\n",
              "</table>\n",
              "</div>\n",
              "    <div class=\"colab-df-buttons\">\n",
              "\n",
              "  <div class=\"colab-df-container\">\n",
              "    <button class=\"colab-df-convert\" onclick=\"convertToInteractive('df-c948d679-331e-4712-b0aa-32db0e2100fe')\"\n",
              "            title=\"Convert this dataframe to an interactive table.\"\n",
              "            style=\"display:none;\">\n",
              "\n",
              "  <svg xmlns=\"http://www.w3.org/2000/svg\" height=\"24px\" viewBox=\"0 -960 960 960\">\n",
              "    <path d=\"M120-120v-720h720v720H120Zm60-500h600v-160H180v160Zm220 220h160v-160H400v160Zm0 220h160v-160H400v160ZM180-400h160v-160H180v160Zm440 0h160v-160H620v160ZM180-180h160v-160H180v160Zm440 0h160v-160H620v160Z\"/>\n",
              "  </svg>\n",
              "    </button>\n",
              "\n",
              "  <style>\n",
              "    .colab-df-container {\n",
              "      display:flex;\n",
              "      gap: 12px;\n",
              "    }\n",
              "\n",
              "    .colab-df-convert {\n",
              "      background-color: #E8F0FE;\n",
              "      border: none;\n",
              "      border-radius: 50%;\n",
              "      cursor: pointer;\n",
              "      display: none;\n",
              "      fill: #1967D2;\n",
              "      height: 32px;\n",
              "      padding: 0 0 0 0;\n",
              "      width: 32px;\n",
              "    }\n",
              "\n",
              "    .colab-df-convert:hover {\n",
              "      background-color: #E2EBFA;\n",
              "      box-shadow: 0px 1px 2px rgba(60, 64, 67, 0.3), 0px 1px 3px 1px rgba(60, 64, 67, 0.15);\n",
              "      fill: #174EA6;\n",
              "    }\n",
              "\n",
              "    .colab-df-buttons div {\n",
              "      margin-bottom: 4px;\n",
              "    }\n",
              "\n",
              "    [theme=dark] .colab-df-convert {\n",
              "      background-color: #3B4455;\n",
              "      fill: #D2E3FC;\n",
              "    }\n",
              "\n",
              "    [theme=dark] .colab-df-convert:hover {\n",
              "      background-color: #434B5C;\n",
              "      box-shadow: 0px 1px 3px 1px rgba(0, 0, 0, 0.15);\n",
              "      filter: drop-shadow(0px 1px 2px rgba(0, 0, 0, 0.3));\n",
              "      fill: #FFFFFF;\n",
              "    }\n",
              "  </style>\n",
              "\n",
              "    <script>\n",
              "      const buttonEl =\n",
              "        document.querySelector('#df-c948d679-331e-4712-b0aa-32db0e2100fe button.colab-df-convert');\n",
              "      buttonEl.style.display =\n",
              "        google.colab.kernel.accessAllowed ? 'block' : 'none';\n",
              "\n",
              "      async function convertToInteractive(key) {\n",
              "        const element = document.querySelector('#df-c948d679-331e-4712-b0aa-32db0e2100fe');\n",
              "        const dataTable =\n",
              "          await google.colab.kernel.invokeFunction('convertToInteractive',\n",
              "                                                    [key], {});\n",
              "        if (!dataTable) return;\n",
              "\n",
              "        const docLinkHtml = 'Like what you see? Visit the ' +\n",
              "          '<a target=\"_blank\" href=https://colab.research.google.com/notebooks/data_table.ipynb>data table notebook</a>'\n",
              "          + ' to learn more about interactive tables.';\n",
              "        element.innerHTML = '';\n",
              "        dataTable['output_type'] = 'display_data';\n",
              "        await google.colab.output.renderOutput(dataTable, element);\n",
              "        const docLink = document.createElement('div');\n",
              "        docLink.innerHTML = docLinkHtml;\n",
              "        element.appendChild(docLink);\n",
              "      }\n",
              "    </script>\n",
              "  </div>\n",
              "\n",
              "\n",
              "<div id=\"df-98e8aa78-86cc-4243-aba7-cd2a728f3b30\">\n",
              "  <button class=\"colab-df-quickchart\" onclick=\"quickchart('df-98e8aa78-86cc-4243-aba7-cd2a728f3b30')\"\n",
              "            title=\"Suggest charts\"\n",
              "            style=\"display:none;\">\n",
              "\n",
              "<svg xmlns=\"http://www.w3.org/2000/svg\" height=\"24px\"viewBox=\"0 0 24 24\"\n",
              "     width=\"24px\">\n",
              "    <g>\n",
              "        <path d=\"M19 3H5c-1.1 0-2 .9-2 2v14c0 1.1.9 2 2 2h14c1.1 0 2-.9 2-2V5c0-1.1-.9-2-2-2zM9 17H7v-7h2v7zm4 0h-2V7h2v10zm4 0h-2v-4h2v4z\"/>\n",
              "    </g>\n",
              "</svg>\n",
              "  </button>\n",
              "\n",
              "<style>\n",
              "  .colab-df-quickchart {\n",
              "      --bg-color: #E8F0FE;\n",
              "      --fill-color: #1967D2;\n",
              "      --hover-bg-color: #E2EBFA;\n",
              "      --hover-fill-color: #174EA6;\n",
              "      --disabled-fill-color: #AAA;\n",
              "      --disabled-bg-color: #DDD;\n",
              "  }\n",
              "\n",
              "  [theme=dark] .colab-df-quickchart {\n",
              "      --bg-color: #3B4455;\n",
              "      --fill-color: #D2E3FC;\n",
              "      --hover-bg-color: #434B5C;\n",
              "      --hover-fill-color: #FFFFFF;\n",
              "      --disabled-bg-color: #3B4455;\n",
              "      --disabled-fill-color: #666;\n",
              "  }\n",
              "\n",
              "  .colab-df-quickchart {\n",
              "    background-color: var(--bg-color);\n",
              "    border: none;\n",
              "    border-radius: 50%;\n",
              "    cursor: pointer;\n",
              "    display: none;\n",
              "    fill: var(--fill-color);\n",
              "    height: 32px;\n",
              "    padding: 0;\n",
              "    width: 32px;\n",
              "  }\n",
              "\n",
              "  .colab-df-quickchart:hover {\n",
              "    background-color: var(--hover-bg-color);\n",
              "    box-shadow: 0 1px 2px rgba(60, 64, 67, 0.3), 0 1px 3px 1px rgba(60, 64, 67, 0.15);\n",
              "    fill: var(--button-hover-fill-color);\n",
              "  }\n",
              "\n",
              "  .colab-df-quickchart-complete:disabled,\n",
              "  .colab-df-quickchart-complete:disabled:hover {\n",
              "    background-color: var(--disabled-bg-color);\n",
              "    fill: var(--disabled-fill-color);\n",
              "    box-shadow: none;\n",
              "  }\n",
              "\n",
              "  .colab-df-spinner {\n",
              "    border: 2px solid var(--fill-color);\n",
              "    border-color: transparent;\n",
              "    border-bottom-color: var(--fill-color);\n",
              "    animation:\n",
              "      spin 1s steps(1) infinite;\n",
              "  }\n",
              "\n",
              "  @keyframes spin {\n",
              "    0% {\n",
              "      border-color: transparent;\n",
              "      border-bottom-color: var(--fill-color);\n",
              "      border-left-color: var(--fill-color);\n",
              "    }\n",
              "    20% {\n",
              "      border-color: transparent;\n",
              "      border-left-color: var(--fill-color);\n",
              "      border-top-color: var(--fill-color);\n",
              "    }\n",
              "    30% {\n",
              "      border-color: transparent;\n",
              "      border-left-color: var(--fill-color);\n",
              "      border-top-color: var(--fill-color);\n",
              "      border-right-color: var(--fill-color);\n",
              "    }\n",
              "    40% {\n",
              "      border-color: transparent;\n",
              "      border-right-color: var(--fill-color);\n",
              "      border-top-color: var(--fill-color);\n",
              "    }\n",
              "    60% {\n",
              "      border-color: transparent;\n",
              "      border-right-color: var(--fill-color);\n",
              "    }\n",
              "    80% {\n",
              "      border-color: transparent;\n",
              "      border-right-color: var(--fill-color);\n",
              "      border-bottom-color: var(--fill-color);\n",
              "    }\n",
              "    90% {\n",
              "      border-color: transparent;\n",
              "      border-bottom-color: var(--fill-color);\n",
              "    }\n",
              "  }\n",
              "</style>\n",
              "\n",
              "  <script>\n",
              "    async function quickchart(key) {\n",
              "      const quickchartButtonEl =\n",
              "        document.querySelector('#' + key + ' button');\n",
              "      quickchartButtonEl.disabled = true;  // To prevent multiple clicks.\n",
              "      quickchartButtonEl.classList.add('colab-df-spinner');\n",
              "      try {\n",
              "        const charts = await google.colab.kernel.invokeFunction(\n",
              "            'suggestCharts', [key], {});\n",
              "      } catch (error) {\n",
              "        console.error('Error during call to suggestCharts:', error);\n",
              "      }\n",
              "      quickchartButtonEl.classList.remove('colab-df-spinner');\n",
              "      quickchartButtonEl.classList.add('colab-df-quickchart-complete');\n",
              "    }\n",
              "    (() => {\n",
              "      let quickchartButtonEl =\n",
              "        document.querySelector('#df-98e8aa78-86cc-4243-aba7-cd2a728f3b30 button');\n",
              "      quickchartButtonEl.style.display =\n",
              "        google.colab.kernel.accessAllowed ? 'block' : 'none';\n",
              "    })();\n",
              "  </script>\n",
              "</div>\n",
              "\n",
              "    </div>\n",
              "  </div>\n"
            ]
          },
          "metadata": {},
          "execution_count": 16
        }
      ]
    },
    {
      "cell_type": "markdown",
      "source": [
        "#### 1/ Combine all sentences into text"
      ],
      "metadata": {
        "id": "h9eECAITndnO"
      }
    },
    {
      "cell_type": "markdown",
      "source": [
        "The input to the deep learning model is the string that will be converted to the list"
      ],
      "metadata": {
        "id": "DM-gEoQpnr2f"
      }
    },
    {
      "cell_type": "code",
      "source": [
        "# Convert the text from abstract into lists\n",
        "train_sentences = train_df.text.to_list()\n",
        "val_sentences = val_df.text.to_list()\n",
        "test_sentences = test_df.text.to_list()\n",
        "len(train_sentences), len(val_sentences), len(test_sentences)"
      ],
      "metadata": {
        "id": "0DzbPbpJGxqe",
        "colab": {
          "base_uri": "https://localhost:8080/"
        },
        "outputId": "60bb6b1e-09bf-446a-c0d6-190f1c4bf704"
      },
      "execution_count": null,
      "outputs": [
        {
          "output_type": "execute_result",
          "data": {
            "text/plain": [
              "(180040, 30135, 30135)"
            ]
          },
          "metadata": {},
          "execution_count": 17
        }
      ]
    },
    {
      "cell_type": "code",
      "source": [
        "train_sentences[:10]"
      ],
      "metadata": {
        "colab": {
          "base_uri": "https://localhost:8080/"
        },
        "id": "88VgOwcWn5lK",
        "outputId": "7e6cb328-d8bd-4d69-dedf-ab9ddfd70153"
      },
      "execution_count": null,
      "outputs": [
        {
          "output_type": "execute_result",
          "data": {
            "text/plain": [
              "['to investigate the efficacy of @ weeks of daily low-dose oral prednisolone in improving pain , mobility , and systemic low-grade inflammation in the short term and whether the effect would be sustained at @ weeks in older adults with moderate to severe knee osteoarthritis ( oa ) .',\n",
              " 'a total of @ patients with primary knee oa were randomized @:@ ; @ received @ mg/day of prednisolone and @ received placebo for @ weeks .',\n",
              " 'outcome measures included pain reduction and improvement in function scores and systemic inflammation markers .',\n",
              " 'pain was assessed using the visual analog pain scale ( @-@ mm ) .',\n",
              " 'secondary outcome measures included the western ontario and mcmaster universities osteoarthritis index scores , patient global assessment ( pga ) of the severity of knee oa , and @-min walk distance ( @mwd ) .',\n",
              " 'serum levels of interleukin @ ( il-@ ) , il-@ , tumor necrosis factor ( tnf ) - , and high-sensitivity c-reactive protein ( hscrp ) were measured .',\n",
              " 'there was a clinically relevant reduction in the intervention group compared to the placebo group for knee pain , physical function , pga , and @mwd at @ weeks .',\n",
              " 'the mean difference between treatment arms ( @ % ci ) was @ ( @-@ @ ) , p < @ ; @ ( @-@ @ ) , p < @ ; @ ( @-@ @ ) , p < @ ; and @ ( @-@ @ ) , p < @ , respectively .',\n",
              " 'further , there was a clinically relevant reduction in the serum levels of il-@ , il-@ , tnf - , and hscrp at @ weeks in the intervention group when compared to the placebo group .',\n",
              " 'these differences remained significant at @ weeks .']"
            ]
          },
          "metadata": {},
          "execution_count": 18
        }
      ]
    },
    {
      "cell_type": "markdown",
      "source": [
        "#### 2/ ONE HOT ENCODE LABELS"
      ],
      "metadata": {
        "id": "dp7TMjlXNWM5"
      }
    },
    {
      "cell_type": "code",
      "source": [
        "# Extracting the label by using onehorencoder\n",
        "from sklearn.preprocessing import OneHotEncoder\n",
        "one_hot_encoder = OneHotEncoder(sparse = False)\n",
        "train_labels_one_hot = one_hot_encoder.fit_transform(train_df['target'].to_numpy().reshape(-1,1))\n",
        "test_labels_one_hot = one_hot_encoder.transform(test_df['target'].to_numpy().reshape(-1,1))\n",
        "val_labels_one_hot = one_hot_encoder.transform(val_df['target'].to_numpy().reshape(-1,1))\n",
        "# How the one hot encoder on the validation set look like\n",
        "val_labels_one_hot"
      ],
      "metadata": {
        "colab": {
          "base_uri": "https://localhost:8080/"
        },
        "id": "WVmEaJPPPDOT",
        "outputId": "4855c13c-be22-419a-fffb-9660060047de"
      },
      "execution_count": null,
      "outputs": [
        {
          "output_type": "stream",
          "name": "stderr",
          "text": [
            "/usr/local/lib/python3.10/dist-packages/sklearn/preprocessing/_encoders.py:868: FutureWarning: `sparse` was renamed to `sparse_output` in version 1.2 and will be removed in 1.4. `sparse_output` is ignored unless you leave `sparse` to its default value.\n",
            "  warnings.warn(\n"
          ]
        },
        {
          "output_type": "execute_result",
          "data": {
            "text/plain": [
              "array([[1., 0., 0., 0., 0.],\n",
              "       [0., 0., 0., 0., 1.],\n",
              "       [0., 0., 0., 0., 1.],\n",
              "       ...,\n",
              "       [0., 0., 0., 0., 1.],\n",
              "       [0., 0., 0., 0., 1.],\n",
              "       [0., 1., 0., 0., 0.]])"
            ]
          },
          "metadata": {},
          "execution_count": 19
        }
      ]
    },
    {
      "cell_type": "markdown",
      "source": [
        "#### 3/ LABEL ENCODE LABELS"
      ],
      "metadata": {
        "id": "ciH_X81GPw60"
      }
    },
    {
      "cell_type": "code",
      "source": [
        "# Extract the labels and transform it to number by using labelencoder\n",
        "from sklearn.preprocessing import LabelEncoder\n",
        "label_encoder = LabelEncoder()\n",
        "\n",
        "train_labels_encoded = label_encoder.fit_transform(train_df.target.to_numpy())\n",
        "val_labels_encoded = label_encoder.transform(val_df.target.to_numpy())\n",
        "test_labels_encoded = label_encoder.transform(test_df.target.to_numpy())"
      ],
      "metadata": {
        "id": "W3IW5uPaOtHR"
      },
      "execution_count": null,
      "outputs": []
    },
    {
      "cell_type": "code",
      "source": [
        "# How the label encoder on the train set look like\n",
        "train_labels_encoded"
      ],
      "metadata": {
        "colab": {
          "base_uri": "https://localhost:8080/"
        },
        "id": "6YLtfuWUOtKc",
        "outputId": "24ac34fb-1f51-4e2d-d497-daf6e2a7b251"
      },
      "execution_count": null,
      "outputs": [
        {
          "output_type": "execute_result",
          "data": {
            "text/plain": [
              "array([3, 2, 2, ..., 4, 1, 1])"
            ]
          },
          "metadata": {},
          "execution_count": 21
        }
      ]
    },
    {
      "cell_type": "code",
      "source": [
        "# the number class in the the target set and these tartget instances\n",
        "num_classes = len(label_encoder.classes_)\n",
        "classes_name = label_encoder.classes_\n",
        "num_classes, classes_name"
      ],
      "metadata": {
        "colab": {
          "base_uri": "https://localhost:8080/"
        },
        "id": "D1LhTskyZZq0",
        "outputId": "dfcd19a0-951e-4162-cf50-8333f7557f64"
      },
      "execution_count": null,
      "outputs": [
        {
          "output_type": "execute_result",
          "data": {
            "text/plain": [
              "(5,\n",
              " array(['BACKGROUND', 'CONCLUSIONS', 'METHODS', 'OBJECTIVE', 'RESULTS'],\n",
              "       dtype=object))"
            ]
          },
          "metadata": {},
          "execution_count": 56
        }
      ]
    },
    {
      "cell_type": "markdown",
      "source": [
        "### 4/The metrics used to evaluate model performance"
      ],
      "metadata": {
        "id": "I8fvdpSYvMyE"
      }
    },
    {
      "cell_type": "code",
      "source": [
        "from sklearn.metrics import accuracy_score, precision_recall_fscore_support\n",
        "\n",
        "def result_metrics(y_actual, y_pred):\n",
        "  model_accracy = accuracy_score(y_actual, y_pred)\n",
        "  model_precision, model_recall, model_f1, _ = precision_recall_fscore_support(y_actual, y_pred, average = 'weighted')\n",
        "  model_result = pd.DataFrame({\"accuracy\": [model_accracy],\n",
        "                  \"precsion\": [model_precision],\n",
        "                  'recall': [model_recall],\n",
        "                  'f1': [model_f1]})\n",
        "  return model_result"
      ],
      "metadata": {
        "id": "oD16bHEovHjI"
      },
      "execution_count": null,
      "outputs": []
    },
    {
      "cell_type": "markdown",
      "source": [
        "## 2/. Deep learning models"
      ],
      "metadata": {
        "id": "mpA3W_JRsLwU"
      }
    },
    {
      "cell_type": "markdown",
      "source": [
        "### 1/.Model 0: Baseline model"
      ],
      "metadata": {
        "id": "cgXziIGdrNVI"
      }
    },
    {
      "cell_type": "code",
      "source": [
        "from sklearn.feature_extraction.text import TfidfVectorizer\n",
        "from sklearn.naive_bayes import MultinomialNB\n",
        "from sklearn.pipeline import Pipeline\n",
        "\n",
        "model_0 = Pipeline([\n",
        "    ('tf-idf', TfidfVectorizer()),\n",
        "    (\"clf\", MultinomialNB())\n",
        "])\n",
        "model_0.fit(X = train_sentences,\n",
        "            y = train_labels_encoded)"
      ],
      "metadata": {
        "colab": {
          "base_uri": "https://localhost:8080/",
          "height": 126
        },
        "id": "m2Hhi6gprVCI",
        "outputId": "63466ca6-c15e-4310-fbaa-a01ba49afee4"
      },
      "execution_count": null,
      "outputs": [
        {
          "output_type": "execute_result",
          "data": {
            "text/plain": [
              "Pipeline(steps=[('tf-idf', TfidfVectorizer()), ('clf', MultinomialNB())])"
            ],
            "text/html": [
              "<style>#sk-container-id-1 {color: black;background-color: white;}#sk-container-id-1 pre{padding: 0;}#sk-container-id-1 div.sk-toggleable {background-color: white;}#sk-container-id-1 label.sk-toggleable__label {cursor: pointer;display: block;width: 100%;margin-bottom: 0;padding: 0.3em;box-sizing: border-box;text-align: center;}#sk-container-id-1 label.sk-toggleable__label-arrow:before {content: \"▸\";float: left;margin-right: 0.25em;color: #696969;}#sk-container-id-1 label.sk-toggleable__label-arrow:hover:before {color: black;}#sk-container-id-1 div.sk-estimator:hover label.sk-toggleable__label-arrow:before {color: black;}#sk-container-id-1 div.sk-toggleable__content {max-height: 0;max-width: 0;overflow: hidden;text-align: left;background-color: #f0f8ff;}#sk-container-id-1 div.sk-toggleable__content pre {margin: 0.2em;color: black;border-radius: 0.25em;background-color: #f0f8ff;}#sk-container-id-1 input.sk-toggleable__control:checked~div.sk-toggleable__content {max-height: 200px;max-width: 100%;overflow: auto;}#sk-container-id-1 input.sk-toggleable__control:checked~label.sk-toggleable__label-arrow:before {content: \"▾\";}#sk-container-id-1 div.sk-estimator input.sk-toggleable__control:checked~label.sk-toggleable__label {background-color: #d4ebff;}#sk-container-id-1 div.sk-label input.sk-toggleable__control:checked~label.sk-toggleable__label {background-color: #d4ebff;}#sk-container-id-1 input.sk-hidden--visually {border: 0;clip: rect(1px 1px 1px 1px);clip: rect(1px, 1px, 1px, 1px);height: 1px;margin: -1px;overflow: hidden;padding: 0;position: absolute;width: 1px;}#sk-container-id-1 div.sk-estimator {font-family: monospace;background-color: #f0f8ff;border: 1px dotted black;border-radius: 0.25em;box-sizing: border-box;margin-bottom: 0.5em;}#sk-container-id-1 div.sk-estimator:hover {background-color: #d4ebff;}#sk-container-id-1 div.sk-parallel-item::after {content: \"\";width: 100%;border-bottom: 1px solid gray;flex-grow: 1;}#sk-container-id-1 div.sk-label:hover label.sk-toggleable__label {background-color: #d4ebff;}#sk-container-id-1 div.sk-serial::before {content: \"\";position: absolute;border-left: 1px solid gray;box-sizing: border-box;top: 0;bottom: 0;left: 50%;z-index: 0;}#sk-container-id-1 div.sk-serial {display: flex;flex-direction: column;align-items: center;background-color: white;padding-right: 0.2em;padding-left: 0.2em;position: relative;}#sk-container-id-1 div.sk-item {position: relative;z-index: 1;}#sk-container-id-1 div.sk-parallel {display: flex;align-items: stretch;justify-content: center;background-color: white;position: relative;}#sk-container-id-1 div.sk-item::before, #sk-container-id-1 div.sk-parallel-item::before {content: \"\";position: absolute;border-left: 1px solid gray;box-sizing: border-box;top: 0;bottom: 0;left: 50%;z-index: -1;}#sk-container-id-1 div.sk-parallel-item {display: flex;flex-direction: column;z-index: 1;position: relative;background-color: white;}#sk-container-id-1 div.sk-parallel-item:first-child::after {align-self: flex-end;width: 50%;}#sk-container-id-1 div.sk-parallel-item:last-child::after {align-self: flex-start;width: 50%;}#sk-container-id-1 div.sk-parallel-item:only-child::after {width: 0;}#sk-container-id-1 div.sk-dashed-wrapped {border: 1px dashed gray;margin: 0 0.4em 0.5em 0.4em;box-sizing: border-box;padding-bottom: 0.4em;background-color: white;}#sk-container-id-1 div.sk-label label {font-family: monospace;font-weight: bold;display: inline-block;line-height: 1.2em;}#sk-container-id-1 div.sk-label-container {text-align: center;}#sk-container-id-1 div.sk-container {/* jupyter's `normalize.less` sets `[hidden] { display: none; }` but bootstrap.min.css set `[hidden] { display: none !important; }` so we also need the `!important` here to be able to override the default hidden behavior on the sphinx rendered scikit-learn.org. See: https://github.com/scikit-learn/scikit-learn/issues/21755 */display: inline-block !important;position: relative;}#sk-container-id-1 div.sk-text-repr-fallback {display: none;}</style><div id=\"sk-container-id-1\" class=\"sk-top-container\"><div class=\"sk-text-repr-fallback\"><pre>Pipeline(steps=[(&#x27;tf-idf&#x27;, TfidfVectorizer()), (&#x27;clf&#x27;, MultinomialNB())])</pre><b>In a Jupyter environment, please rerun this cell to show the HTML representation or trust the notebook. <br />On GitHub, the HTML representation is unable to render, please try loading this page with nbviewer.org.</b></div><div class=\"sk-container\" hidden><div class=\"sk-item sk-dashed-wrapped\"><div class=\"sk-label-container\"><div class=\"sk-label sk-toggleable\"><input class=\"sk-toggleable__control sk-hidden--visually\" id=\"sk-estimator-id-1\" type=\"checkbox\" ><label for=\"sk-estimator-id-1\" class=\"sk-toggleable__label sk-toggleable__label-arrow\">Pipeline</label><div class=\"sk-toggleable__content\"><pre>Pipeline(steps=[(&#x27;tf-idf&#x27;, TfidfVectorizer()), (&#x27;clf&#x27;, MultinomialNB())])</pre></div></div></div><div class=\"sk-serial\"><div class=\"sk-item\"><div class=\"sk-estimator sk-toggleable\"><input class=\"sk-toggleable__control sk-hidden--visually\" id=\"sk-estimator-id-2\" type=\"checkbox\" ><label for=\"sk-estimator-id-2\" class=\"sk-toggleable__label sk-toggleable__label-arrow\">TfidfVectorizer</label><div class=\"sk-toggleable__content\"><pre>TfidfVectorizer()</pre></div></div></div><div class=\"sk-item\"><div class=\"sk-estimator sk-toggleable\"><input class=\"sk-toggleable__control sk-hidden--visually\" id=\"sk-estimator-id-3\" type=\"checkbox\" ><label for=\"sk-estimator-id-3\" class=\"sk-toggleable__label sk-toggleable__label-arrow\">MultinomialNB</label><div class=\"sk-toggleable__content\"><pre>MultinomialNB()</pre></div></div></div></div></div></div></div>"
            ]
          },
          "metadata": {},
          "execution_count": 24
        }
      ]
    },
    {
      "cell_type": "code",
      "source": [
        "model_0.score(X = val_sentences,\n",
        "              y = val_labels_encoded)"
      ],
      "metadata": {
        "colab": {
          "base_uri": "https://localhost:8080/"
        },
        "id": "ql840soLrVa1",
        "outputId": "a4d43494-8203-4f4a-d957-d4d3be25850b"
      },
      "execution_count": null,
      "outputs": [
        {
          "output_type": "execute_result",
          "data": {
            "text/plain": [
              "0.716674962667994"
            ]
          },
          "metadata": {},
          "execution_count": 19
        }
      ]
    },
    {
      "cell_type": "code",
      "source": [
        "baseline_pred = model_0.predict(val_sentences)\n",
        "baseline_pred"
      ],
      "metadata": {
        "colab": {
          "base_uri": "https://localhost:8080/"
        },
        "id": "lfXFTawRsaMR",
        "outputId": "53298914-e107-4c5b-b430-96fe08be6b81"
      },
      "execution_count": null,
      "outputs": [
        {
          "output_type": "execute_result",
          "data": {
            "text/plain": [
              "array([2, 2, 2, ..., 4, 4, 4])"
            ]
          },
          "metadata": {},
          "execution_count": 20
        }
      ]
    },
    {
      "cell_type": "code",
      "source": [
        "model_0_df = result_metrics(val_labels_encoded, baseline_pred)\n",
        "model_0_df.insert(0, \"Name_Model\", \"Baseline\")\n",
        "model_0_df"
      ],
      "metadata": {
        "colab": {
          "base_uri": "https://localhost:8080/",
          "height": 89
        },
        "id": "Xo7Inj9zrVdX",
        "outputId": "fc7a4d9b-ad93-427c-b797-503e8715d9a3"
      },
      "execution_count": null,
      "outputs": [
        {
          "output_type": "execute_result",
          "data": {
            "text/plain": [
              "  Name_Model  accuracy  precsion    recall       f1\n",
              "0   Baseline  0.716675  0.712432  0.716675  0.69251"
            ],
            "text/html": [
              "\n",
              "  <div id=\"df-d8aacb85-cbbc-416e-8e07-91aca74cb9ce\" class=\"colab-df-container\">\n",
              "    <div>\n",
              "<style scoped>\n",
              "    .dataframe tbody tr th:only-of-type {\n",
              "        vertical-align: middle;\n",
              "    }\n",
              "\n",
              "    .dataframe tbody tr th {\n",
              "        vertical-align: top;\n",
              "    }\n",
              "\n",
              "    .dataframe thead th {\n",
              "        text-align: right;\n",
              "    }\n",
              "</style>\n",
              "<table border=\"1\" class=\"dataframe\">\n",
              "  <thead>\n",
              "    <tr style=\"text-align: right;\">\n",
              "      <th></th>\n",
              "      <th>Name_Model</th>\n",
              "      <th>accuracy</th>\n",
              "      <th>precsion</th>\n",
              "      <th>recall</th>\n",
              "      <th>f1</th>\n",
              "    </tr>\n",
              "  </thead>\n",
              "  <tbody>\n",
              "    <tr>\n",
              "      <th>0</th>\n",
              "      <td>Baseline</td>\n",
              "      <td>0.716675</td>\n",
              "      <td>0.712432</td>\n",
              "      <td>0.716675</td>\n",
              "      <td>0.69251</td>\n",
              "    </tr>\n",
              "  </tbody>\n",
              "</table>\n",
              "</div>\n",
              "    <div class=\"colab-df-buttons\">\n",
              "\n",
              "  <div class=\"colab-df-container\">\n",
              "    <button class=\"colab-df-convert\" onclick=\"convertToInteractive('df-d8aacb85-cbbc-416e-8e07-91aca74cb9ce')\"\n",
              "            title=\"Convert this dataframe to an interactive table.\"\n",
              "            style=\"display:none;\">\n",
              "\n",
              "  <svg xmlns=\"http://www.w3.org/2000/svg\" height=\"24px\" viewBox=\"0 -960 960 960\">\n",
              "    <path d=\"M120-120v-720h720v720H120Zm60-500h600v-160H180v160Zm220 220h160v-160H400v160Zm0 220h160v-160H400v160ZM180-400h160v-160H180v160Zm440 0h160v-160H620v160ZM180-180h160v-160H180v160Zm440 0h160v-160H620v160Z\"/>\n",
              "  </svg>\n",
              "    </button>\n",
              "\n",
              "  <style>\n",
              "    .colab-df-container {\n",
              "      display:flex;\n",
              "      gap: 12px;\n",
              "    }\n",
              "\n",
              "    .colab-df-convert {\n",
              "      background-color: #E8F0FE;\n",
              "      border: none;\n",
              "      border-radius: 50%;\n",
              "      cursor: pointer;\n",
              "      display: none;\n",
              "      fill: #1967D2;\n",
              "      height: 32px;\n",
              "      padding: 0 0 0 0;\n",
              "      width: 32px;\n",
              "    }\n",
              "\n",
              "    .colab-df-convert:hover {\n",
              "      background-color: #E2EBFA;\n",
              "      box-shadow: 0px 1px 2px rgba(60, 64, 67, 0.3), 0px 1px 3px 1px rgba(60, 64, 67, 0.15);\n",
              "      fill: #174EA6;\n",
              "    }\n",
              "\n",
              "    .colab-df-buttons div {\n",
              "      margin-bottom: 4px;\n",
              "    }\n",
              "\n",
              "    [theme=dark] .colab-df-convert {\n",
              "      background-color: #3B4455;\n",
              "      fill: #D2E3FC;\n",
              "    }\n",
              "\n",
              "    [theme=dark] .colab-df-convert:hover {\n",
              "      background-color: #434B5C;\n",
              "      box-shadow: 0px 1px 3px 1px rgba(0, 0, 0, 0.15);\n",
              "      filter: drop-shadow(0px 1px 2px rgba(0, 0, 0, 0.3));\n",
              "      fill: #FFFFFF;\n",
              "    }\n",
              "  </style>\n",
              "\n",
              "    <script>\n",
              "      const buttonEl =\n",
              "        document.querySelector('#df-d8aacb85-cbbc-416e-8e07-91aca74cb9ce button.colab-df-convert');\n",
              "      buttonEl.style.display =\n",
              "        google.colab.kernel.accessAllowed ? 'block' : 'none';\n",
              "\n",
              "      async function convertToInteractive(key) {\n",
              "        const element = document.querySelector('#df-d8aacb85-cbbc-416e-8e07-91aca74cb9ce');\n",
              "        const dataTable =\n",
              "          await google.colab.kernel.invokeFunction('convertToInteractive',\n",
              "                                                    [key], {});\n",
              "        if (!dataTable) return;\n",
              "\n",
              "        const docLinkHtml = 'Like what you see? Visit the ' +\n",
              "          '<a target=\"_blank\" href=https://colab.research.google.com/notebooks/data_table.ipynb>data table notebook</a>'\n",
              "          + ' to learn more about interactive tables.';\n",
              "        element.innerHTML = '';\n",
              "        dataTable['output_type'] = 'display_data';\n",
              "        await google.colab.output.renderOutput(dataTable, element);\n",
              "        const docLink = document.createElement('div');\n",
              "        docLink.innerHTML = docLinkHtml;\n",
              "        element.appendChild(docLink);\n",
              "      }\n",
              "    </script>\n",
              "  </div>\n",
              "\n",
              "\n",
              "  <div id=\"id_d895e9ed-ec86-4307-aa35-2f9518350339\">\n",
              "    <style>\n",
              "      .colab-df-generate {\n",
              "        background-color: #E8F0FE;\n",
              "        border: none;\n",
              "        border-radius: 50%;\n",
              "        cursor: pointer;\n",
              "        display: none;\n",
              "        fill: #1967D2;\n",
              "        height: 32px;\n",
              "        padding: 0 0 0 0;\n",
              "        width: 32px;\n",
              "      }\n",
              "\n",
              "      .colab-df-generate:hover {\n",
              "        background-color: #E2EBFA;\n",
              "        box-shadow: 0px 1px 2px rgba(60, 64, 67, 0.3), 0px 1px 3px 1px rgba(60, 64, 67, 0.15);\n",
              "        fill: #174EA6;\n",
              "      }\n",
              "\n",
              "      [theme=dark] .colab-df-generate {\n",
              "        background-color: #3B4455;\n",
              "        fill: #D2E3FC;\n",
              "      }\n",
              "\n",
              "      [theme=dark] .colab-df-generate:hover {\n",
              "        background-color: #434B5C;\n",
              "        box-shadow: 0px 1px 3px 1px rgba(0, 0, 0, 0.15);\n",
              "        filter: drop-shadow(0px 1px 2px rgba(0, 0, 0, 0.3));\n",
              "        fill: #FFFFFF;\n",
              "      }\n",
              "    </style>\n",
              "    <button class=\"colab-df-generate\" onclick=\"generateWithVariable('model_0_df')\"\n",
              "            title=\"Generate code using this dataframe.\"\n",
              "            style=\"display:none;\">\n",
              "\n",
              "  <svg xmlns=\"http://www.w3.org/2000/svg\" height=\"24px\"viewBox=\"0 0 24 24\"\n",
              "       width=\"24px\">\n",
              "    <path d=\"M7,19H8.4L18.45,9,17,7.55,7,17.6ZM5,21V16.75L18.45,3.32a2,2,0,0,1,2.83,0l1.4,1.43a1.91,1.91,0,0,1,.58,1.4,1.91,1.91,0,0,1-.58,1.4L9.25,21ZM18.45,9,17,7.55Zm-12,3A5.31,5.31,0,0,0,4.9,8.1,5.31,5.31,0,0,0,1,6.5,5.31,5.31,0,0,0,4.9,4.9,5.31,5.31,0,0,0,6.5,1,5.31,5.31,0,0,0,8.1,4.9,5.31,5.31,0,0,0,12,6.5,5.46,5.46,0,0,0,6.5,12Z\"/>\n",
              "  </svg>\n",
              "    </button>\n",
              "    <script>\n",
              "      (() => {\n",
              "      const buttonEl =\n",
              "        document.querySelector('#id_d895e9ed-ec86-4307-aa35-2f9518350339 button.colab-df-generate');\n",
              "      buttonEl.style.display =\n",
              "        google.colab.kernel.accessAllowed ? 'block' : 'none';\n",
              "\n",
              "      buttonEl.onclick = () => {\n",
              "        google.colab.notebook.generateWithVariable('model_0_df');\n",
              "      }\n",
              "      })();\n",
              "    </script>\n",
              "  </div>\n",
              "\n",
              "    </div>\n",
              "  </div>\n"
            ]
          },
          "metadata": {},
          "execution_count": 21
        }
      ]
    },
    {
      "cell_type": "markdown",
      "source": [
        "It is pivotal to create the dataset by using tf.data, that is enable to load data faster in the GPU  "
      ],
      "metadata": {
        "id": "QoWGTrw31HIg"
      }
    },
    {
      "cell_type": "code",
      "source": [
        "import tensorflow as tf\n",
        "# Turn data to the tensorflow dataset\n",
        "train_dataset = tf.data.Dataset.from_tensor_slices((train_sentences, train_labels_one_hot))\n",
        "val_dataset = tf.data.Dataset.from_tensor_slices((val_sentences, val_labels_one_hot))\n",
        "test_dataset = tf.data.Dataset.from_tensor_slices((test_sentences, test_labels_one_hot))\n",
        "\n",
        "train_dataset"
      ],
      "metadata": {
        "colab": {
          "base_uri": "https://localhost:8080/"
        },
        "id": "BVgEPxrv9VrZ",
        "outputId": "770b9f4b-fa8b-4a97-d94a-94c44195d34a"
      },
      "execution_count": null,
      "outputs": [
        {
          "output_type": "execute_result",
          "data": {
            "text/plain": [
              "<_TensorSliceDataset element_spec=(TensorSpec(shape=(), dtype=tf.string, name=None), TensorSpec(shape=(5,), dtype=tf.float64, name=None))>"
            ]
          },
          "metadata": {},
          "execution_count": 23
        }
      ]
    },
    {
      "cell_type": "code",
      "source": [
        "# We turn our data into a prefetchDataset of batches, that can ensure that we can run model as fast as possible\n",
        "train_dataset = train_dataset.batch(32).prefetch(tf.data.AUTOTUNE)\n",
        "val_dataset = val_dataset.batch(32).prefetch(tf.data.AUTOTUNE)\n",
        "test_dataset = test_dataset.batch(32).prefetch(tf.data.AUTOTUNE)\n",
        "\n",
        "train_dataset"
      ],
      "metadata": {
        "colab": {
          "base_uri": "https://localhost:8080/"
        },
        "id": "UA79ci7n9wPG",
        "outputId": "fd38a6f0-486c-4f5d-cd70-c6721404e7aa"
      },
      "execution_count": null,
      "outputs": [
        {
          "output_type": "execute_result",
          "data": {
            "text/plain": [
              "<_PrefetchDataset element_spec=(TensorSpec(shape=(None,), dtype=tf.string, name=None), TensorSpec(shape=(None, 5), dtype=tf.float64, name=None))>"
            ]
          },
          "metadata": {},
          "execution_count": 684
        }
      ]
    },
    {
      "cell_type": "markdown",
      "source": [
        "#### 1 Model_1: Convolution 1D Neural netword  "
      ],
      "metadata": {
        "id": "-Fi_Hc7Q3unz"
      }
    },
    {
      "cell_type": "markdown",
      "source": [
        "Methology:\n",
        "To turn the text into number, we use TextVectorization layer from tensorflow. we still keep all parameters defaults, except the the number of unique words(max_tokens) and the desired output sequence length. Because the average length of the sequence is 55, that cover 95% of the sentence in the dataset.\n",
        "However, these numbers no longer create the richer relationship with each other, we need to use embedding layer.\n",
        "The first model, we will build the 1-dimensional convolutional Neural Networdk.\n"
      ],
      "metadata": {
        "id": "MQspQ1-FuVux"
      }
    },
    {
      "cell_type": "code",
      "source": [
        "from tensorflow.keras import layers\n",
        "max_tokens = 68000\n",
        "from tensorflow.keras.layers import TextVectorization\n",
        "import random\n",
        "# Vectorize text\n",
        "text_vectorizer = TextVectorization(max_tokens = max_tokens,\n",
        "                                    output_sequence_length = 55)\n",
        "text_vectorizer.adapt(train_sentences)\n",
        "volcab_in_text = text_vectorizer.get_vocabulary()\n",
        "# Embedding text\n",
        "token_embed = layers.Embedding(input_dim = len(volcab_in_text),\n",
        "                              output_dim = 128,\n",
        "                               mask_zero = True,\n",
        "                               name = 'token_embedding')\n"
      ],
      "metadata": {
        "id": "FkE_8Y7BmgSW"
      },
      "execution_count": null,
      "outputs": []
    },
    {
      "cell_type": "code",
      "source": [
        "# Random sentence applied textvectorization and embedding\n",
        "random_sentence = random.choice(train_sentences)\n",
        "sentence_vectorizer = text_vectorizer(random_sentence)\n",
        "sentence_embed = token_embed(sentence_vectorizer)\n",
        "sentence_embed"
      ],
      "metadata": {
        "colab": {
          "base_uri": "https://localhost:8080/"
        },
        "id": "Abxyx8dAtHhq",
        "outputId": "3fbe7e31-64f9-4238-893a-a215a3e06376"
      },
      "execution_count": null,
      "outputs": [
        {
          "output_type": "execute_result",
          "data": {
            "text/plain": [
              "<tf.Tensor: shape=(55, 128), dtype=float32, numpy=\n",
              "array([[-0.03547736,  0.01975193,  0.01420313, ...,  0.03172999,\n",
              "        -0.0468987 ,  0.04862008],\n",
              "       [ 0.00121941, -0.04886654,  0.02600544, ..., -0.02542957,\n",
              "        -0.01923708, -0.00883678],\n",
              "       [-0.00227173, -0.03640006, -0.02341785, ...,  0.02176431,\n",
              "         0.03267061,  0.01908841],\n",
              "       ...,\n",
              "       [ 0.02987647,  0.02947002,  0.04605658, ..., -0.02176753,\n",
              "         0.0285028 ,  0.03061703],\n",
              "       [ 0.02987647,  0.02947002,  0.04605658, ..., -0.02176753,\n",
              "         0.0285028 ,  0.03061703],\n",
              "       [ 0.02987647,  0.02947002,  0.04605658, ..., -0.02176753,\n",
              "         0.0285028 ,  0.03061703]], dtype=float32)>"
            ]
          },
          "metadata": {},
          "execution_count": 26
        }
      ]
    },
    {
      "cell_type": "code",
      "source": [
        "import tensorflow as tf\n",
        "from tensorflow.keras import layers\n",
        "\n",
        "# Define the model\n",
        "# Create 1D convolutional model to process sequences\n",
        "inputs = layers.Input(shape=(1,), dtype = tf.string)\n",
        "token_embedding = text_vectorizer(inputs)\n",
        "token_embeddings = token_embed(token_embedding)\n",
        "x = layers.Conv1D(64, kernel_size = 5, padding = \"same\", activation = 'relu')(token_embeddings)\n",
        "x = layers.GlobalAveragePooling1D()(x)\n",
        "outputs = layers.Dense(num_classes, activation = 'softmax')(x)\n",
        "model_1 = tf.keras.Model(inputs, outputs)\n",
        "\n",
        "model_1.compile(loss = \"categorical_crossentropy\",\n",
        "                optimizer = tf.keras.optimizers.Adam(),\n",
        "                metrics = ['accuracy'])"
      ],
      "metadata": {
        "id": "zBHP3smX-ygN"
      },
      "execution_count": null,
      "outputs": []
    },
    {
      "cell_type": "code",
      "source": [
        "from tensorflow.keras.utils import plot_model\n",
        "print(f\"the workflow of the model 1 \")\n",
        "plot_model(model_1)"
      ],
      "metadata": {
        "colab": {
          "base_uri": "https://localhost:8080/",
          "height": 582
        },
        "id": "K8Qk5EoW2jn8",
        "outputId": "473d1ff6-0c59-42da-f03c-9a1dac10d1a5"
      },
      "execution_count": null,
      "outputs": [
        {
          "output_type": "stream",
          "name": "stdout",
          "text": [
            "the workflow of the model 1 \n"
          ]
        },
        {
          "output_type": "execute_result",
          "data": {
            "image/png": "[encoded data removed]",
            "text/plain": [
              "<IPython.core.display.Image object>"
            ]
          },
          "metadata": {},
          "execution_count": 32
        }
      ]
    },
    {
      "cell_type": "code",
      "source": [
        "model_1.summary()"
      ],
      "metadata": {
        "colab": {
          "base_uri": "https://localhost:8080/"
        },
        "id": "JNqBteKu_phO",
        "outputId": "68e61edc-679a-4e36-c8f1-e316237b78fa"
      },
      "execution_count": null,
      "outputs": [
        {
          "output_type": "stream",
          "name": "stdout",
          "text": [
            "Model: \"model_134\"\n",
            "_________________________________________________________________\n",
            " Layer (type)                Output Shape              Param #   \n",
            "=================================================================\n",
            " input_18 (InputLayer)       [(None, 1)]               0         \n",
            "                                                                 \n",
            " text_vectorization_17 (Tex  (None, 55)                0         \n",
            " tVectorization)                                                 \n",
            "                                                                 \n",
            " token_embedding (Embedding  (None, 55, 128)           8299648   \n",
            " )                                                               \n",
            "                                                                 \n",
            " conv1d_13 (Conv1D)          (None, 55, 64)            41024     \n",
            "                                                                 \n",
            " global_average_pooling1d_1  (None, 64)                0         \n",
            " 0 (GlobalAveragePooling1D)                                      \n",
            "                                                                 \n",
            " dense_128 (Dense)           (None, 5)                 325       \n",
            "                                                                 \n",
            "=================================================================\n",
            "Total params: 8340997 (31.82 MB)\n",
            "Trainable params: 8340997 (31.82 MB)\n",
            "Non-trainable params: 0 (0.00 Byte)\n",
            "_________________________________________________________________\n"
          ]
        }
      ]
    },
    {
      "cell_type": "code",
      "source": [
        "# Fit the model\n",
        "model_1_history = model_1.fit(train_dataset,\n",
        "                              steps_per_epoch=int(0.1 * len(train_dataset)), # only fit on 10% of batches for faster training time\n",
        "                              epochs=3,\n",
        "                              validation_data=val_dataset,\n",
        "                              validation_steps=int(0.1 * len(val_dataset)))"
      ],
      "metadata": {
        "colab": {
          "base_uri": "https://localhost:8080/"
        },
        "id": "S0PkB2DXAfkP",
        "outputId": "a0282863-b0ad-4f92-ce2b-67a3e0ac0f17"
      },
      "execution_count": null,
      "outputs": [
        {
          "output_type": "stream",
          "name": "stdout",
          "text": [
            "Epoch 1/3\n",
            "562/562 [==============================] - 17s 29ms/step - loss: 0.9260 - accuracy: 0.6273 - val_loss: 0.6897 - val_accuracy: 0.7281\n",
            "Epoch 2/3\n",
            "562/562 [==============================] - 5s 9ms/step - loss: 0.6588 - accuracy: 0.7539 - val_loss: 0.6400 - val_accuracy: 0.7666\n",
            "Epoch 3/3\n",
            "562/562 [==============================] - 4s 7ms/step - loss: 0.6191 - accuracy: 0.7735 - val_loss: 0.5912 - val_accuracy: 0.7812\n"
          ]
        }
      ]
    },
    {
      "cell_type": "code",
      "source": [
        "model_1.evaluate(val_dataset)"
      ],
      "metadata": {
        "colab": {
          "base_uri": "https://localhost:8080/"
        },
        "id": "ZlZB55MqA6dE",
        "outputId": "0dadf7d8-5b19-4ddf-dc37-880ec0974192"
      },
      "execution_count": null,
      "outputs": [
        {
          "output_type": "stream",
          "name": "stdout",
          "text": [
            "942/942 [==============================] - 3s 3ms/step - loss: 0.6124 - accuracy: 0.7820\n"
          ]
        },
        {
          "output_type": "execute_result",
          "data": {
            "text/plain": [
              "[0.6124178171157837, 0.7819811105728149]"
            ]
          },
          "metadata": {},
          "execution_count": 689
        }
      ]
    },
    {
      "cell_type": "code",
      "source": [
        "model_1_pred = model_1.predict(val_dataset)\n",
        "model_1_pred = tf.argmax(model_1_pred, axis = 1)\n",
        "model_1_pred"
      ],
      "metadata": {
        "colab": {
          "base_uri": "https://localhost:8080/"
        },
        "id": "bdSXYU_rCoE6",
        "outputId": "86edf724-c32d-4943-e676-2865a6127754"
      },
      "execution_count": null,
      "outputs": [
        {
          "output_type": "stream",
          "name": "stdout",
          "text": [
            "942/942 [==============================] - 2s 2ms/step\n"
          ]
        },
        {
          "output_type": "execute_result",
          "data": {
            "text/plain": [
              "<tf.Tensor: shape=(30135,), dtype=int64, numpy=array([0, 2, 2, ..., 4, 4, 4])>"
            ]
          },
          "metadata": {},
          "execution_count": 690
        }
      ]
    },
    {
      "cell_type": "code",
      "source": [
        "model_1_df = result_metrics(val_labels_encoded, model_1_pred)\n",
        "model_1_df.insert(0, \"Name_Model\", \"Model_1\")\n",
        "model_1_df"
      ],
      "metadata": {
        "colab": {
          "base_uri": "https://localhost:8080/",
          "height": 89
        },
        "id": "l22X5iCsErHz",
        "outputId": "87f9abc7-30e0-482d-ab1c-6d6431a033fb"
      },
      "execution_count": null,
      "outputs": [
        {
          "output_type": "execute_result",
          "data": {
            "text/plain": [
              "  Name_Model  accuracy  precsion    recall        f1\n",
              "0    Model_1  0.781981  0.779739  0.781981  0.779988"
            ],
            "text/html": [
              "\n",
              "  <div id=\"df-07c6cc23-eb00-4b2b-a181-de7ea254c83f\" class=\"colab-df-container\">\n",
              "    <div>\n",
              "<style scoped>\n",
              "    .dataframe tbody tr th:only-of-type {\n",
              "        vertical-align: middle;\n",
              "    }\n",
              "\n",
              "    .dataframe tbody tr th {\n",
              "        vertical-align: top;\n",
              "    }\n",
              "\n",
              "    .dataframe thead th {\n",
              "        text-align: right;\n",
              "    }\n",
              "</style>\n",
              "<table border=\"1\" class=\"dataframe\">\n",
              "  <thead>\n",
              "    <tr style=\"text-align: right;\">\n",
              "      <th></th>\n",
              "      <th>Name_Model</th>\n",
              "      <th>accuracy</th>\n",
              "      <th>precsion</th>\n",
              "      <th>recall</th>\n",
              "      <th>f1</th>\n",
              "    </tr>\n",
              "  </thead>\n",
              "  <tbody>\n",
              "    <tr>\n",
              "      <th>0</th>\n",
              "      <td>Model_1</td>\n",
              "      <td>0.781981</td>\n",
              "      <td>0.779739</td>\n",
              "      <td>0.781981</td>\n",
              "      <td>0.779988</td>\n",
              "    </tr>\n",
              "  </tbody>\n",
              "</table>\n",
              "</div>\n",
              "    <div class=\"colab-df-buttons\">\n",
              "\n",
              "  <div class=\"colab-df-container\">\n",
              "    <button class=\"colab-df-convert\" onclick=\"convertToInteractive('df-07c6cc23-eb00-4b2b-a181-de7ea254c83f')\"\n",
              "            title=\"Convert this dataframe to an interactive table.\"\n",
              "            style=\"display:none;\">\n",
              "\n",
              "  <svg xmlns=\"http://www.w3.org/2000/svg\" height=\"24px\" viewBox=\"0 -960 960 960\">\n",
              "    <path d=\"M120-120v-720h720v720H120Zm60-500h600v-160H180v160Zm220 220h160v-160H400v160Zm0 220h160v-160H400v160ZM180-400h160v-160H180v160Zm440 0h160v-160H620v160ZM180-180h160v-160H180v160Zm440 0h160v-160H620v160Z\"/>\n",
              "  </svg>\n",
              "    </button>\n",
              "\n",
              "  <style>\n",
              "    .colab-df-container {\n",
              "      display:flex;\n",
              "      gap: 12px;\n",
              "    }\n",
              "\n",
              "    .colab-df-convert {\n",
              "      background-color: #E8F0FE;\n",
              "      border: none;\n",
              "      border-radius: 50%;\n",
              "      cursor: pointer;\n",
              "      display: none;\n",
              "      fill: #1967D2;\n",
              "      height: 32px;\n",
              "      padding: 0 0 0 0;\n",
              "      width: 32px;\n",
              "    }\n",
              "\n",
              "    .colab-df-convert:hover {\n",
              "      background-color: #E2EBFA;\n",
              "      box-shadow: 0px 1px 2px rgba(60, 64, 67, 0.3), 0px 1px 3px 1px rgba(60, 64, 67, 0.15);\n",
              "      fill: #174EA6;\n",
              "    }\n",
              "\n",
              "    .colab-df-buttons div {\n",
              "      margin-bottom: 4px;\n",
              "    }\n",
              "\n",
              "    [theme=dark] .colab-df-convert {\n",
              "      background-color: #3B4455;\n",
              "      fill: #D2E3FC;\n",
              "    }\n",
              "\n",
              "    [theme=dark] .colab-df-convert:hover {\n",
              "      background-color: #434B5C;\n",
              "      box-shadow: 0px 1px 3px 1px rgba(0, 0, 0, 0.15);\n",
              "      filter: drop-shadow(0px 1px 2px rgba(0, 0, 0, 0.3));\n",
              "      fill: #FFFFFF;\n",
              "    }\n",
              "  </style>\n",
              "\n",
              "    <script>\n",
              "      const buttonEl =\n",
              "        document.querySelector('#df-07c6cc23-eb00-4b2b-a181-de7ea254c83f button.colab-df-convert');\n",
              "      buttonEl.style.display =\n",
              "        google.colab.kernel.accessAllowed ? 'block' : 'none';\n",
              "\n",
              "      async function convertToInteractive(key) {\n",
              "        const element = document.querySelector('#df-07c6cc23-eb00-4b2b-a181-de7ea254c83f');\n",
              "        const dataTable =\n",
              "          await google.colab.kernel.invokeFunction('convertToInteractive',\n",
              "                                                    [key], {});\n",
              "        if (!dataTable) return;\n",
              "\n",
              "        const docLinkHtml = 'Like what you see? Visit the ' +\n",
              "          '<a target=\"_blank\" href=https://colab.research.google.com/notebooks/data_table.ipynb>data table notebook</a>'\n",
              "          + ' to learn more about interactive tables.';\n",
              "        element.innerHTML = '';\n",
              "        dataTable['output_type'] = 'display_data';\n",
              "        await google.colab.output.renderOutput(dataTable, element);\n",
              "        const docLink = document.createElement('div');\n",
              "        docLink.innerHTML = docLinkHtml;\n",
              "        element.appendChild(docLink);\n",
              "      }\n",
              "    </script>\n",
              "  </div>\n",
              "\n",
              "\n",
              "  <div id=\"id_91a044be-4ce5-4bd6-b75a-30306f52421d\">\n",
              "    <style>\n",
              "      .colab-df-generate {\n",
              "        background-color: #E8F0FE;\n",
              "        border: none;\n",
              "        border-radius: 50%;\n",
              "        cursor: pointer;\n",
              "        display: none;\n",
              "        fill: #1967D2;\n",
              "        height: 32px;\n",
              "        padding: 0 0 0 0;\n",
              "        width: 32px;\n",
              "      }\n",
              "\n",
              "      .colab-df-generate:hover {\n",
              "        background-color: #E2EBFA;\n",
              "        box-shadow: 0px 1px 2px rgba(60, 64, 67, 0.3), 0px 1px 3px 1px rgba(60, 64, 67, 0.15);\n",
              "        fill: #174EA6;\n",
              "      }\n",
              "\n",
              "      [theme=dark] .colab-df-generate {\n",
              "        background-color: #3B4455;\n",
              "        fill: #D2E3FC;\n",
              "      }\n",
              "\n",
              "      [theme=dark] .colab-df-generate:hover {\n",
              "        background-color: #434B5C;\n",
              "        box-shadow: 0px 1px 3px 1px rgba(0, 0, 0, 0.15);\n",
              "        filter: drop-shadow(0px 1px 2px rgba(0, 0, 0, 0.3));\n",
              "        fill: #FFFFFF;\n",
              "      }\n",
              "    </style>\n",
              "    <button class=\"colab-df-generate\" onclick=\"generateWithVariable('model_1_df')\"\n",
              "            title=\"Generate code using this dataframe.\"\n",
              "            style=\"display:none;\">\n",
              "\n",
              "  <svg xmlns=\"http://www.w3.org/2000/svg\" height=\"24px\"viewBox=\"0 0 24 24\"\n",
              "       width=\"24px\">\n",
              "    <path d=\"M7,19H8.4L18.45,9,17,7.55,7,17.6ZM5,21V16.75L18.45,3.32a2,2,0,0,1,2.83,0l1.4,1.43a1.91,1.91,0,0,1,.58,1.4,1.91,1.91,0,0,1-.58,1.4L9.25,21ZM18.45,9,17,7.55Zm-12,3A5.31,5.31,0,0,0,4.9,8.1,5.31,5.31,0,0,0,1,6.5,5.31,5.31,0,0,0,4.9,4.9,5.31,5.31,0,0,0,6.5,1,5.31,5.31,0,0,0,8.1,4.9,5.31,5.31,0,0,0,12,6.5,5.46,5.46,0,0,0,6.5,12Z\"/>\n",
              "  </svg>\n",
              "    </button>\n",
              "    <script>\n",
              "      (() => {\n",
              "      const buttonEl =\n",
              "        document.querySelector('#id_91a044be-4ce5-4bd6-b75a-30306f52421d button.colab-df-generate');\n",
              "      buttonEl.style.display =\n",
              "        google.colab.kernel.accessAllowed ? 'block' : 'none';\n",
              "\n",
              "      buttonEl.onclick = () => {\n",
              "        google.colab.notebook.generateWithVariable('model_1_df');\n",
              "      }\n",
              "      })();\n",
              "    </script>\n",
              "  </div>\n",
              "\n",
              "    </div>\n",
              "  </div>\n"
            ]
          },
          "metadata": {},
          "execution_count": 691
        }
      ]
    },
    {
      "cell_type": "markdown",
      "source": [
        "#### 2.Model_2: Fitting NLP feature extraction by Pretrained token embedding"
      ],
      "metadata": {
        "id": "cgX2gVkCNJ_v"
      }
    },
    {
      "cell_type": "markdown",
      "source": [
        "We use the feature extraction transfer learning from the Neural Networks for Joint Sentence Classification in Medical Paper Abstracts, that is the way to begin token embedding. However, we just want to use the embedding layer without utilising other layers,  setting trainable is false. Then we was applying the token in the embedding layer and adding our own layers to train model."
      ],
      "metadata": {
        "id": "eExfT2Li3DXM"
      }
    },
    {
      "cell_type": "code",
      "source": [
        "import tensorflow_hub as hub\n",
        "\n",
        "tf_hub_embedding = hub.KerasLayer(\"https://tfhub.dev/google/universal-sentence-encoder/4\",\n",
        "                                  trainable = False,\n",
        "                                  name = \"universial_model\")"
      ],
      "metadata": {
        "id": "rOOGIsuhFNMp"
      },
      "execution_count": null,
      "outputs": []
    },
    {
      "cell_type": "code",
      "source": [
        "# Example of applying pretrained embedding on the random sentence\n",
        "random_sentence = random.choice(train_sentences)\n",
        "print(f\"Random sentence before embedding is\\n {random_sentence}\")\n",
        "\n",
        "embedding_sentence = tf_hub_embedding([random_sentence])\n",
        "print(f\"Sentence after embedding {embedding_sentence}\")\n",
        "\n",
        "print(f\"The length of embedding: {len(embedding_sentence[0])}\")"
      ],
      "metadata": {
        "colab": {
          "base_uri": "https://localhost:8080/"
        },
        "id": "wXcW5E4oFeVH",
        "outputId": "32bdebb1-06ba-436a-9803-add4a463b4fd"
      },
      "execution_count": null,
      "outputs": [
        {
          "output_type": "stream",
          "name": "stdout",
          "text": [
            "Random sentence before embedding is\n",
            " compared with udc , more ic patients reached hba@c targets of < @ % ( @ mmol/mol ; @ vs. @ % , respectively , p < @ ) and < @ % ( @ mmol/mol ; @ vs. @ % , respectively , p < @ ) .\n",
            "Sentence after embedding [[-0.00632177 -0.07279091  0.02539157  0.00123483  0.03415223 -0.06879918\n",
            "  -0.03139625 -0.03338647 -0.06498446 -0.00607484  0.07540822 -0.03429439\n",
            "  -0.01035777 -0.00128238  0.05961156 -0.05234265 -0.07533561  0.03200801\n",
            "   0.02593959 -0.02843563  0.07946219 -0.03264504 -0.01540184 -0.05448438\n",
            "   0.03362187  0.01696674  0.04203029  0.06237685 -0.00094357 -0.05517263\n",
            "  -0.00279734  0.07884647 -0.0336932  -0.04239246 -0.02743429  0.00690467\n",
            "   0.03214564 -0.04525828 -0.02349353 -0.05923894  0.02492402  0.04095187\n",
            "  -0.03282467  0.0401699   0.05130333  0.06773803 -0.00495673  0.04153712\n",
            "  -0.05070046 -0.01017917 -0.01952052 -0.00198268 -0.07323223 -0.07821302\n",
            "   0.03277018 -0.028751   -0.07537936  0.0519783  -0.0617623  -0.01314403\n",
            "  -0.01023405  0.02372214  0.03481076 -0.02871735  0.06298827  0.07138054\n",
            "   0.05121603  0.01887393 -0.01913293 -0.03869265  0.04931501  0.05667708\n",
            "  -0.03150057  0.04318565 -0.04599844  0.06574126 -0.02674766 -0.02292023\n",
            "  -0.01889785  0.01089466 -0.01193108  0.05292398 -0.0178686   0.03592876\n",
            "  -0.01128271 -0.01798187  0.02774407 -0.06034701 -0.04190778 -0.0684268\n",
            "  -0.05614475  0.01925742 -0.07850617 -0.01335504  0.06347664 -0.05626189\n",
            "  -0.02446445 -0.07575896 -0.03205196 -0.0201592  -0.0495935   0.07336307\n",
            "   0.07939197  0.04701729  0.07032603 -0.06694823 -0.02100552  0.06561151\n",
            "   0.07219531 -0.06727317 -0.02829919  0.01537444  0.0443963   0.02708928\n",
            "   0.02533058 -0.06056514  0.02874771  0.04130624  0.03147076  0.03176827\n",
            "  -0.06974825  0.01064353 -0.0049791   0.0694904   0.00057462  0.00158878\n",
            "  -0.04484926  0.00946303 -0.02228056 -0.03093289 -0.05856358  0.06754968\n",
            "   0.05742914  0.00016957 -0.03209319  0.02379551  0.05911813  0.03363723\n",
            "   0.01620303  0.02827655  0.00244506  0.02973386  0.02815915 -0.0066506\n",
            "  -0.01144272 -0.03718572  0.0469592  -0.01170108  0.01530995  0.01292728\n",
            "   0.01786867  0.02832088 -0.0651857   0.00409668 -0.03700658  0.07226796\n",
            "  -0.00704213 -0.01303464  0.00923172  0.06453062  0.03554396 -0.04182862\n",
            "  -0.04365334  0.0581027   0.01558901 -0.02684192  0.0235168  -0.06238101\n",
            "   0.04124968  0.03472296 -0.04037064 -0.0376057  -0.07520715  0.02000698\n",
            "  -0.02710226 -0.00205517  0.06380092 -0.04268964  0.04683008  0.06226297\n",
            "  -0.06666936 -0.05357658  0.01053119  0.07640395 -0.01252087  0.00786856\n",
            "  -0.02391439  0.03396458  0.03967362  0.00374083  0.07325024 -0.03354337\n",
            "   0.01572469  0.03798844  0.03543311  0.07086903 -0.04073856  0.07463237\n",
            "   0.02198209  0.04570572 -0.01898263  0.03485537 -0.03050636  0.01018932\n",
            "  -0.05979108  0.0367361  -0.02849943  0.02204072 -0.0529253  -0.03485172\n",
            "   0.00467738 -0.03917676 -0.07372565 -0.00293628  0.01692154  0.03198536\n",
            "   0.06552994  0.01671616  0.05947027 -0.02655911  0.00029744 -0.02321262\n",
            "   0.03402624 -0.01619061 -0.00763644  0.01238484  0.05326253 -0.06134624\n",
            "  -0.04439038  0.06738013  0.05370348  0.07362939  0.05624365 -0.05645312\n",
            "   0.05356409  0.04281152  0.06950513  0.00082671  0.06715606  0.01826502\n",
            "   0.02378538  0.04979703 -0.07957172  0.01841746  0.0718589  -0.05830286\n",
            "  -0.00610882  0.04481849  0.01632585 -0.06042799 -0.0649129  -0.04778283\n",
            "  -0.03809663 -0.07779433  0.0262226   0.01000293 -0.02807957  0.02382518\n",
            "   0.01337633  0.010365    0.00126312 -0.07091158  0.04102026 -0.0355477\n",
            "  -0.02754079  0.03734722  0.03047903  0.04908221 -0.03556845  0.04958161\n",
            "  -0.00397871 -0.0260831   0.074853    0.01974523  0.06513711  0.00960761\n",
            "  -0.07633742 -0.02981364  0.01979586 -0.06028075  0.01692404  0.02173834\n",
            "  -0.06756007  0.01757146 -0.01119791 -0.02555002  0.03948256 -0.05577989\n",
            "   0.00534511  0.00056822  0.00256211  0.02963728 -0.05894844 -0.02974488\n",
            "  -0.06977488  0.01611322 -0.03089254 -0.03910074  0.06776698  0.00838569\n",
            "   0.03357743 -0.03519797 -0.07116169 -0.06102303 -0.07061156  0.05808025\n",
            "  -0.0127335  -0.05078326  0.00385215 -0.00550341  0.00634191 -0.05917395\n",
            "   0.06472903  0.04682005  0.0035992   0.02025184 -0.05237671  0.07052796\n",
            "   0.07748739  0.03413999  0.02522615 -0.05864699 -0.00140336  0.02493058\n",
            "   0.0091285   0.03175097 -0.02903538 -0.00590599 -0.07915193  0.03988295\n",
            "   0.06101796 -0.05015429  0.04094723  0.07887987 -0.05678061 -0.00595114\n",
            "   0.06010888  0.01524128  0.03676712  0.02039043  0.06237194  0.03829592\n",
            "   0.07507157  0.01105717 -0.0757982   0.04571257 -0.04599788 -0.02078458\n",
            "   0.07399693 -0.04121605 -0.00865123 -0.03279504 -0.02924113  0.02432733\n",
            "   0.06362031  0.03748878  0.01270102 -0.03913322 -0.05225272 -0.04987742\n",
            "  -0.02432413 -0.05823276 -0.066383   -0.0738312  -0.01774686  0.04594959\n",
            "   0.01745495 -0.04308438 -0.04185108 -0.04812374  0.02349706  0.01760359\n",
            "   0.05364988  0.0507899   0.07494778  0.03464457  0.06753164  0.00082771\n",
            "   0.02945336 -0.06923506 -0.05909357  0.02068062  0.05081059  0.06898207\n",
            "   0.06121518  0.02769064 -0.00534685  0.05039717  0.00317928 -0.0350923\n",
            "   0.01101659 -0.02658857 -0.07826185 -0.0465642  -0.07374893 -0.05425259\n",
            "  -0.05208796 -0.02522741  0.01541618 -0.03240037  0.06722366  0.04324926\n",
            "  -0.06248831  0.07716609 -0.00524829  0.03379338  0.038459   -0.01916729\n",
            "   0.04460605 -0.02765629 -0.03469238  0.01412166  0.06093099 -0.06388406\n",
            "   0.04765391 -0.02906998  0.02328948  0.00652064 -0.0453852  -0.01599009\n",
            "   0.00239994  0.01023669 -0.0057823   0.02271914  0.05145248 -0.01334023\n",
            "  -0.01404     0.01657696 -0.05693005  0.02399737 -0.03562553 -0.03679877\n",
            "  -0.06510779 -0.05185128  0.04775845 -0.04359397 -0.0715111  -0.05001972\n",
            "   0.05915144  0.01940199 -0.00376162  0.06206648  0.00303814  0.07305755\n",
            "   0.00850304 -0.02269251 -0.07366948 -0.02517789 -0.04327894  0.07174349\n",
            "  -0.01481265 -0.0482745  -0.00305004  0.07660705  0.03556068 -0.07893645\n",
            "   0.02217369  0.04335455 -0.0428994   0.05379677  0.05762404 -0.05017817\n",
            "   0.04467951 -0.05756948 -0.00749517 -0.06894185 -0.00237204  0.02375772\n",
            "  -0.04996424  0.03151106  0.07074797 -0.04649144  0.00104031 -0.05916179\n",
            "   0.04577945  0.02358033 -0.0507098  -0.027505    0.06833585 -0.04535699\n",
            "  -0.04506174 -0.04527392 -0.02716655  0.04271714  0.06629609 -0.03633019\n",
            "  -0.07586344 -0.06399175 -0.01373695 -0.00214572  0.04002918 -0.01364203\n",
            "   0.04309903 -0.04401927  0.00923101 -0.07218133 -0.01040638  0.00895617\n",
            "   0.07034518 -0.00291001  0.06196005  0.00238787  0.0500876  -0.02151635\n",
            "   0.03262744 -0.07795754  0.05864094 -0.04150828 -0.0095946  -0.03523746\n",
            "   0.01534939 -0.03985878]]\n",
            "The length of embedding: 512\n"
          ]
        }
      ]
    },
    {
      "cell_type": "code",
      "source": [
        "import tensorflow as tf\n",
        "from tensorflow.keras.layers import Input, Dense\n",
        "import tensorflow_hub as hub\n",
        "\n",
        "# Define input layer\n",
        "input_layer = Input(shape=(), dtype=tf.string)\n",
        "\n",
        "# Define the model\n",
        "model_2 = tf.keras.Sequential([\n",
        "    input_layer,\n",
        "    tf_hub_embedding,\n",
        "    Dense(128, activation='relu'),\n",
        "    Dense(5, activation='softmax')\n",
        "])\n",
        "\n",
        "model_2.compile(loss = 'categorical_crossentropy',\n",
        "                optimizer = tf.keras.optimizers.Adam(),\n",
        "                metrics = ['accuracy'])"
      ],
      "metadata": {
        "id": "OoWkMIwBFxE3"
      },
      "execution_count": null,
      "outputs": []
    },
    {
      "cell_type": "code",
      "source": [
        "print(\"The workflow of the model 2\")\n",
        "plot_model(model_2)"
      ],
      "metadata": {
        "colab": {
          "base_uri": "https://localhost:8080/",
          "height": 387
        },
        "id": "5L0n6Tiy5CiB",
        "outputId": "8becc68e-9a50-4076-9e7b-7c6c8b60bb6e"
      },
      "execution_count": null,
      "outputs": [
        {
          "output_type": "stream",
          "name": "stdout",
          "text": [
            "The workflow of the model 2\n"
          ]
        },
        {
          "output_type": "execute_result",
          "data": {
            "image/png": "[encoded data removed]",
            "text/plain": [
              "<IPython.core.display.Image object>"
            ]
          },
          "metadata": {},
          "execution_count": 37
        }
      ]
    },
    {
      "cell_type": "code",
      "source": [
        "model_2.summary()"
      ],
      "metadata": {
        "colab": {
          "base_uri": "https://localhost:8080/"
        },
        "id": "RxHWMuWsGzpi",
        "outputId": "b084b79a-7f21-4c5b-a8f1-7668771b96c1"
      },
      "execution_count": null,
      "outputs": [
        {
          "output_type": "stream",
          "name": "stdout",
          "text": [
            "Model: \"sequential_7\"\n",
            "_________________________________________________________________\n",
            " Layer (type)                Output Shape              Param #   \n",
            "=================================================================\n",
            " universial_model (KerasLay  (None, 512)               256797824 \n",
            " er)                                                             \n",
            "                                                                 \n",
            " dense_129 (Dense)           (None, 128)               65664     \n",
            "                                                                 \n",
            " dense_130 (Dense)           (None, 5)                 645       \n",
            "                                                                 \n",
            "=================================================================\n",
            "Total params: 256864133 (979.86 MB)\n",
            "Trainable params: 66309 (259.02 KB)\n",
            "Non-trainable params: 256797824 (979.61 MB)\n",
            "_________________________________________________________________\n"
          ]
        }
      ]
    },
    {
      "cell_type": "code",
      "source": [
        "model_2.fit(train_dataset,\n",
        "            steps_per_epoch = int(0.1*len(train_dataset)),\n",
        "            epochs = 4,\n",
        "            validation_data = val_dataset,\n",
        "            validation_steps= int(0.1*len(val_dataset)))"
      ],
      "metadata": {
        "colab": {
          "base_uri": "https://localhost:8080/"
        },
        "id": "ifs9ivJNHidA",
        "outputId": "68dfdab4-23e5-4ade-a91f-f6a8217334e0"
      },
      "execution_count": null,
      "outputs": [
        {
          "output_type": "stream",
          "name": "stdout",
          "text": [
            "Epoch 1/4\n",
            "562/562 [==============================] - 9s 11ms/step - loss: 0.9182 - accuracy: 0.6501 - val_loss: 0.8306 - val_accuracy: 0.6822\n",
            "Epoch 2/4\n",
            "562/562 [==============================] - 6s 10ms/step - loss: 0.7683 - accuracy: 0.7010 - val_loss: 0.7793 - val_accuracy: 0.6961\n",
            "Epoch 3/4\n",
            "562/562 [==============================] - 6s 10ms/step - loss: 0.7519 - accuracy: 0.7119 - val_loss: 0.7548 - val_accuracy: 0.7064\n",
            "Epoch 4/4\n",
            "562/562 [==============================] - 6s 10ms/step - loss: 0.7182 - accuracy: 0.7240 - val_loss: 0.7290 - val_accuracy: 0.7214\n"
          ]
        },
        {
          "output_type": "execute_result",
          "data": {
            "text/plain": [
              "<keras.src.callbacks.History at 0x7f6164114eb0>"
            ]
          },
          "metadata": {},
          "execution_count": 696
        }
      ]
    },
    {
      "cell_type": "code",
      "source": [
        "model_2.evaluate(val_dataset)"
      ],
      "metadata": {
        "colab": {
          "base_uri": "https://localhost:8080/"
        },
        "id": "kgpPH50VIBL4",
        "outputId": "efe5eff6-7805-4a05-be6e-ed2d400ad1ba"
      },
      "execution_count": null,
      "outputs": [
        {
          "output_type": "stream",
          "name": "stdout",
          "text": [
            "942/942 [==============================] - 8s 8ms/step - loss: 0.7299 - accuracy: 0.7217\n"
          ]
        },
        {
          "output_type": "execute_result",
          "data": {
            "text/plain": [
              "[0.7298502326011658, 0.7216857671737671]"
            ]
          },
          "metadata": {},
          "execution_count": 697
        }
      ]
    },
    {
      "cell_type": "code",
      "source": [
        "model_2_pred = model_2.predict(val_dataset)\n",
        "model_2_pred = tf.argmax(model_2_pred, axis = 1)\n",
        "model_2_pred"
      ],
      "metadata": {
        "colab": {
          "base_uri": "https://localhost:8080/"
        },
        "id": "E1k8ulXqLvTF",
        "outputId": "b0b296b0-6e6d-4ac2-9556-9a8dc3fa4e2b"
      },
      "execution_count": null,
      "outputs": [
        {
          "output_type": "stream",
          "name": "stdout",
          "text": [
            "942/942 [==============================] - 8s 8ms/step\n"
          ]
        },
        {
          "output_type": "execute_result",
          "data": {
            "text/plain": [
              "<tf.Tensor: shape=(30135,), dtype=int64, numpy=array([0, 0, 2, ..., 4, 4, 1])>"
            ]
          },
          "metadata": {},
          "execution_count": 698
        }
      ]
    },
    {
      "cell_type": "code",
      "source": [
        "model_2_df= result_metrics(val_labels_encoded, model_2_pred)\n",
        "model_2_df.insert(0, \"Name_Model\", \"Model_2\")\n",
        "model_2_df"
      ],
      "metadata": {
        "colab": {
          "base_uri": "https://localhost:8080/",
          "height": 89
        },
        "id": "ElIRq8CmMQCv",
        "outputId": "bab9cdf3-97ab-4ce9-a7d1-831d100f6918"
      },
      "execution_count": null,
      "outputs": [
        {
          "output_type": "execute_result",
          "data": {
            "text/plain": [
              "  Name_Model  accuracy  precsion    recall        f1\n",
              "0    Model_2  0.721686   0.71674  0.721686  0.716257"
            ],
            "text/html": [
              "\n",
              "  <div id=\"df-b9915d72-ea96-4195-91b1-84bebd321a44\" class=\"colab-df-container\">\n",
              "    <div>\n",
              "<style scoped>\n",
              "    .dataframe tbody tr th:only-of-type {\n",
              "        vertical-align: middle;\n",
              "    }\n",
              "\n",
              "    .dataframe tbody tr th {\n",
              "        vertical-align: top;\n",
              "    }\n",
              "\n",
              "    .dataframe thead th {\n",
              "        text-align: right;\n",
              "    }\n",
              "</style>\n",
              "<table border=\"1\" class=\"dataframe\">\n",
              "  <thead>\n",
              "    <tr style=\"text-align: right;\">\n",
              "      <th></th>\n",
              "      <th>Name_Model</th>\n",
              "      <th>accuracy</th>\n",
              "      <th>precsion</th>\n",
              "      <th>recall</th>\n",
              "      <th>f1</th>\n",
              "    </tr>\n",
              "  </thead>\n",
              "  <tbody>\n",
              "    <tr>\n",
              "      <th>0</th>\n",
              "      <td>Model_2</td>\n",
              "      <td>0.721686</td>\n",
              "      <td>0.71674</td>\n",
              "      <td>0.721686</td>\n",
              "      <td>0.716257</td>\n",
              "    </tr>\n",
              "  </tbody>\n",
              "</table>\n",
              "</div>\n",
              "    <div class=\"colab-df-buttons\">\n",
              "\n",
              "  <div class=\"colab-df-container\">\n",
              "    <button class=\"colab-df-convert\" onclick=\"convertToInteractive('df-b9915d72-ea96-4195-91b1-84bebd321a44')\"\n",
              "            title=\"Convert this dataframe to an interactive table.\"\n",
              "            style=\"display:none;\">\n",
              "\n",
              "  <svg xmlns=\"http://www.w3.org/2000/svg\" height=\"24px\" viewBox=\"0 -960 960 960\">\n",
              "    <path d=\"M120-120v-720h720v720H120Zm60-500h600v-160H180v160Zm220 220h160v-160H400v160Zm0 220h160v-160H400v160ZM180-400h160v-160H180v160Zm440 0h160v-160H620v160ZM180-180h160v-160H180v160Zm440 0h160v-160H620v160Z\"/>\n",
              "  </svg>\n",
              "    </button>\n",
              "\n",
              "  <style>\n",
              "    .colab-df-container {\n",
              "      display:flex;\n",
              "      gap: 12px;\n",
              "    }\n",
              "\n",
              "    .colab-df-convert {\n",
              "      background-color: #E8F0FE;\n",
              "      border: none;\n",
              "      border-radius: 50%;\n",
              "      cursor: pointer;\n",
              "      display: none;\n",
              "      fill: #1967D2;\n",
              "      height: 32px;\n",
              "      padding: 0 0 0 0;\n",
              "      width: 32px;\n",
              "    }\n",
              "\n",
              "    .colab-df-convert:hover {\n",
              "      background-color: #E2EBFA;\n",
              "      box-shadow: 0px 1px 2px rgba(60, 64, 67, 0.3), 0px 1px 3px 1px rgba(60, 64, 67, 0.15);\n",
              "      fill: #174EA6;\n",
              "    }\n",
              "\n",
              "    .colab-df-buttons div {\n",
              "      margin-bottom: 4px;\n",
              "    }\n",
              "\n",
              "    [theme=dark] .colab-df-convert {\n",
              "      background-color: #3B4455;\n",
              "      fill: #D2E3FC;\n",
              "    }\n",
              "\n",
              "    [theme=dark] .colab-df-convert:hover {\n",
              "      background-color: #434B5C;\n",
              "      box-shadow: 0px 1px 3px 1px rgba(0, 0, 0, 0.15);\n",
              "      filter: drop-shadow(0px 1px 2px rgba(0, 0, 0, 0.3));\n",
              "      fill: #FFFFFF;\n",
              "    }\n",
              "  </style>\n",
              "\n",
              "    <script>\n",
              "      const buttonEl =\n",
              "        document.querySelector('#df-b9915d72-ea96-4195-91b1-84bebd321a44 button.colab-df-convert');\n",
              "      buttonEl.style.display =\n",
              "        google.colab.kernel.accessAllowed ? 'block' : 'none';\n",
              "\n",
              "      async function convertToInteractive(key) {\n",
              "        const element = document.querySelector('#df-b9915d72-ea96-4195-91b1-84bebd321a44');\n",
              "        const dataTable =\n",
              "          await google.colab.kernel.invokeFunction('convertToInteractive',\n",
              "                                                    [key], {});\n",
              "        if (!dataTable) return;\n",
              "\n",
              "        const docLinkHtml = 'Like what you see? Visit the ' +\n",
              "          '<a target=\"_blank\" href=https://colab.research.google.com/notebooks/data_table.ipynb>data table notebook</a>'\n",
              "          + ' to learn more about interactive tables.';\n",
              "        element.innerHTML = '';\n",
              "        dataTable['output_type'] = 'display_data';\n",
              "        await google.colab.output.renderOutput(dataTable, element);\n",
              "        const docLink = document.createElement('div');\n",
              "        docLink.innerHTML = docLinkHtml;\n",
              "        element.appendChild(docLink);\n",
              "      }\n",
              "    </script>\n",
              "  </div>\n",
              "\n",
              "\n",
              "  <div id=\"id_092dcb36-2681-4d99-8180-1ab01133b039\">\n",
              "    <style>\n",
              "      .colab-df-generate {\n",
              "        background-color: #E8F0FE;\n",
              "        border: none;\n",
              "        border-radius: 50%;\n",
              "        cursor: pointer;\n",
              "        display: none;\n",
              "        fill: #1967D2;\n",
              "        height: 32px;\n",
              "        padding: 0 0 0 0;\n",
              "        width: 32px;\n",
              "      }\n",
              "\n",
              "      .colab-df-generate:hover {\n",
              "        background-color: #E2EBFA;\n",
              "        box-shadow: 0px 1px 2px rgba(60, 64, 67, 0.3), 0px 1px 3px 1px rgba(60, 64, 67, 0.15);\n",
              "        fill: #174EA6;\n",
              "      }\n",
              "\n",
              "      [theme=dark] .colab-df-generate {\n",
              "        background-color: #3B4455;\n",
              "        fill: #D2E3FC;\n",
              "      }\n",
              "\n",
              "      [theme=dark] .colab-df-generate:hover {\n",
              "        background-color: #434B5C;\n",
              "        box-shadow: 0px 1px 3px 1px rgba(0, 0, 0, 0.15);\n",
              "        filter: drop-shadow(0px 1px 2px rgba(0, 0, 0, 0.3));\n",
              "        fill: #FFFFFF;\n",
              "      }\n",
              "    </style>\n",
              "    <button class=\"colab-df-generate\" onclick=\"generateWithVariable('model_2_df')\"\n",
              "            title=\"Generate code using this dataframe.\"\n",
              "            style=\"display:none;\">\n",
              "\n",
              "  <svg xmlns=\"http://www.w3.org/2000/svg\" height=\"24px\"viewBox=\"0 0 24 24\"\n",
              "       width=\"24px\">\n",
              "    <path d=\"M7,19H8.4L18.45,9,17,7.55,7,17.6ZM5,21V16.75L18.45,3.32a2,2,0,0,1,2.83,0l1.4,1.43a1.91,1.91,0,0,1,.58,1.4,1.91,1.91,0,0,1-.58,1.4L9.25,21ZM18.45,9,17,7.55Zm-12,3A5.31,5.31,0,0,0,4.9,8.1,5.31,5.31,0,0,0,1,6.5,5.31,5.31,0,0,0,4.9,4.9,5.31,5.31,0,0,0,6.5,1,5.31,5.31,0,0,0,8.1,4.9,5.31,5.31,0,0,0,12,6.5,5.46,5.46,0,0,0,6.5,12Z\"/>\n",
              "  </svg>\n",
              "    </button>\n",
              "    <script>\n",
              "      (() => {\n",
              "      const buttonEl =\n",
              "        document.querySelector('#id_092dcb36-2681-4d99-8180-1ab01133b039 button.colab-df-generate');\n",
              "      buttonEl.style.display =\n",
              "        google.colab.kernel.accessAllowed ? 'block' : 'none';\n",
              "\n",
              "      buttonEl.onclick = () => {\n",
              "        google.colab.notebook.generateWithVariable('model_2_df');\n",
              "      }\n",
              "      })();\n",
              "    </script>\n",
              "  </div>\n",
              "\n",
              "    </div>\n",
              "  </div>\n"
            ]
          },
          "metadata": {},
          "execution_count": 699
        }
      ]
    },
    {
      "cell_type": "markdown",
      "source": [
        "#### 3.Model_3: Con1D with character embedding\n"
      ],
      "metadata": {
        "id": "iQPeStJ7O4iZ"
      }
    },
    {
      "cell_type": "markdown",
      "source": [
        "we've built models with a character-level embedding by first vectorizing our sequences using the textvectorization class and pass those vectorized sequence through an embedding layer. The different between the token level embedding and charecter level embedding is that the token level embeddding will seperatre the sequences into tokens (words) and embedding each of them, character embedding split sequences into letters and apply the vectororization for each letter."
      ],
      "metadata": {
        "id": "hslOc4Geu8cH"
      }
    },
    {
      "cell_type": "code",
      "source": [
        "def split_char(text):\n",
        "  return \" \".join(list(text))"
      ],
      "metadata": {
        "id": "8zwFBiPBNJX9"
      },
      "execution_count": null,
      "outputs": []
    },
    {
      "cell_type": "markdown",
      "source": [
        "Split the sequence into the individual letter"
      ],
      "metadata": {
        "id": "uMSarf2dtrBz"
      }
    },
    {
      "cell_type": "code",
      "source": [
        "train_char = [split_char(sentence) for sentence in train_sentences]\n",
        "test_char = [split_char(sentence) for sentence in test_sentences]\n",
        "val_char = [split_char(sentence) for sentence in val_sentences]"
      ],
      "metadata": {
        "id": "J5gWjkDHSZYh"
      },
      "execution_count": null,
      "outputs": []
    },
    {
      "cell_type": "markdown",
      "source": [
        "Calculate the average length of sentence"
      ],
      "metadata": {
        "id": "vvMLyVP2vg2T"
      }
    },
    {
      "cell_type": "code",
      "source": [
        "import numpy as np\n",
        "len_sentence = [len(sentence) for sentence in train_sentences]\n",
        "avg_len_sentence = np.mean(len_sentence)\n",
        "avg_len_sentence"
      ],
      "metadata": {
        "colab": {
          "base_uri": "https://localhost:8080/"
        },
        "id": "mm34EBkbNJay",
        "outputId": "44f8deaa-a12e-40e4-b926-23e2133bba0b"
      },
      "execution_count": null,
      "outputs": [
        {
          "output_type": "execute_result",
          "data": {
            "text/plain": [
              "149.3662574983337"
            ]
          },
          "metadata": {},
          "execution_count": 39
        }
      ]
    },
    {
      "cell_type": "code",
      "source": [
        "output_len_sentence = int(np.percentile(len_sentence, 95))\n",
        "output_len_sentence"
      ],
      "metadata": {
        "colab": {
          "base_uri": "https://localhost:8080/"
        },
        "id": "HRy2A_UXNJdo",
        "outputId": "77e4d9fb-6ab3-4b78-98f9-738d8d83fdca"
      },
      "execution_count": null,
      "outputs": [
        {
          "output_type": "execute_result",
          "data": {
            "text/plain": [
              "290"
            ]
          },
          "metadata": {},
          "execution_count": 40
        }
      ]
    },
    {
      "cell_type": "code",
      "source": [
        "# Get all character for character embedding\n",
        "\n",
        "import string\n",
        "alphabet = string.ascii_lowercase + string.digits + string.punctuation\n",
        "alphabet"
      ],
      "metadata": {
        "colab": {
          "base_uri": "https://localhost:8080/",
          "height": 35
        },
        "id": "Ncc30NqANJgP",
        "outputId": "08d946d6-0cb2-42db-ce8f-85b9cf991b11"
      },
      "execution_count": null,
      "outputs": [
        {
          "output_type": "execute_result",
          "data": {
            "text/plain": [
              "'abcdefghijklmnopqrstuvwxyz0123456789!\"#$%&\\'()*+,-./:;<=>?@[\\\\]^_`{|}~'"
            ],
            "application/vnd.google.colaboratory.intrinsic+json": {
              "type": "string"
            }
          },
          "metadata": {},
          "execution_count": 41
        }
      ]
    },
    {
      "cell_type": "markdown",
      "source": [
        "Generate a vector representation for sentences by incorporating both the average sentence length and the maximum number of tokens. This vector should encapsulate the likelihood of each token occurring in the sentences. To achieve this, tokenize the sentences, calculate the average sentence length, determine the token likelihood, and create vectors for each sentence. Ensure that the vectors are adjusted to the average length, and consider the maximum tokens for completeness. This approach aims to capture the essence of token through a comprehensive vectorization process.\n",
        "\n",
        "\n",
        "\n",
        "\n"
      ],
      "metadata": {
        "id": "ATbx_6uSvpcg"
      }
    },
    {
      "cell_type": "code",
      "source": [
        "character_vectorizer = TextVectorization(max_tokens = len(alphabet) + 2,\n",
        "                                        output_sequence_length = output_len_sentence,\n",
        "                                        standardize = 'lower_and_strip_punctuation',\n",
        "                                        name = 'char_vectorizer')\n",
        "\n",
        "character_vectorizer.adapt(train_char)"
      ],
      "metadata": {
        "id": "rJh-I-N0NJi2"
      },
      "execution_count": null,
      "outputs": []
    },
    {
      "cell_type": "code",
      "source": [
        "cha_vocab = character_vectorizer.get_vocabulary()\n",
        "\n",
        "print(f\"The different character in the vocabulary {len(cha_vocab)}\")\n",
        "print(f\"The most common character in the vocabulary {cha_vocab[:5]}\")\n",
        "print(f\"The least common character in the vocabulary {cha_vocab[-5:]}\")"
      ],
      "metadata": {
        "colab": {
          "base_uri": "https://localhost:8080/"
        },
        "id": "_HZ6QRr_NJlb",
        "outputId": "9c890ca4-8c39-4b4f-962c-9512f65e43be"
      },
      "execution_count": null,
      "outputs": [
        {
          "output_type": "stream",
          "name": "stdout",
          "text": [
            "The different character in the vocabulary 28\n",
            "The most common character in the vocabulary ['', '[UNK]', 'e', 't', 'i']\n",
            "The least common character in the vocabulary ['k', 'x', 'z', 'q', 'j']\n"
          ]
        }
      ]
    },
    {
      "cell_type": "code",
      "source": [
        "random_char = random.choice(train_char)\n",
        "\n",
        "print(f\"The character before doing textvectorization {random_char}\")\n",
        "print(f\"\\nThe lengh of random_char: {len(random_char.split())}\")\n",
        "random_char_vector = character_vectorizer(random_char)\n",
        "print(f\"\\nThe tokens of random characters after doing textvectorization {random_char_vector}\")\n",
        "print(f\"\\nThe length of the vectorized token: {len(random_char_vector)}\")"
      ],
      "metadata": {
        "colab": {
          "base_uri": "https://localhost:8080/"
        },
        "id": "-u-zazUkNJoT",
        "outputId": "085d96b7-3139-4a52-bcfe-e8878abb0faa"
      },
      "execution_count": null,
      "outputs": [
        {
          "output_type": "stream",
          "name": "stdout",
          "text": [
            "The character before doing textvectorization t h e   i n v e s t i g a t o r   a s   w e l l   a s   t h e   p a r t i c i p a n t s   w a s   b l i n d e d   t o   t h e   s t i m u l a t i o n   m o d a l i t y   .\n",
            "\n",
            "The lengh of random_char: 73\n",
            "\n",
            "The tokens of random characters after doing textvectorization [ 3 13  2  4  6 21  2  9  3  4 18  5  3  7  8  5  9 20  2 12 12  5  9  3\n",
            " 13  2 14  5  8  3  4 11  4 14  5  6  3  9 20  5  9 22 12  4  6 10  2 10\n",
            "  3  7  3 13  2  9  3  4 15 16 12  5  3  4  7  6 15  7 10  5 12  4  3 19\n",
            "  0  0  0  0  0  0  0  0  0  0  0  0  0  0  0  0  0  0  0  0  0  0  0  0\n",
            "  0  0  0  0  0  0  0  0  0  0  0  0  0  0  0  0  0  0  0  0  0  0  0  0\n",
            "  0  0  0  0  0  0  0  0  0  0  0  0  0  0  0  0  0  0  0  0  0  0  0  0\n",
            "  0  0  0  0  0  0  0  0  0  0  0  0  0  0  0  0  0  0  0  0  0  0  0  0\n",
            "  0  0  0  0  0  0  0  0  0  0  0  0  0  0  0  0  0  0  0  0  0  0  0  0\n",
            "  0  0  0  0  0  0  0  0  0  0  0  0  0  0  0  0  0  0  0  0  0  0  0  0\n",
            "  0  0  0  0  0  0  0  0  0  0  0  0  0  0  0  0  0  0  0  0  0  0  0  0\n",
            "  0  0  0  0  0  0  0  0  0  0  0  0  0  0  0  0  0  0  0  0  0  0  0  0\n",
            "  0  0  0  0  0  0  0  0  0  0  0  0  0  0  0  0  0  0  0  0  0  0  0  0\n",
            "  0  0]\n",
            "\n",
            "The length of the vectorized token: 290\n"
          ]
        }
      ]
    },
    {
      "cell_type": "code",
      "source": [
        "embedding_char = layers.Embedding(input_dim = len(alphabet) + 2,\n",
        "                                  output_dim = 25,\n",
        "                                  mask_zero = False,\n",
        "                                  name = \"emdding_char\")\n",
        "\n",
        "print(f\"The sentence before doing embedding {random_char}\")\n",
        "print(f\"The sentence after doing embedding: {embedding_char(character_vectorizer(random_char))}\")\n",
        "print(f\"The shape of sentence after doing embedding {embedding_char(character_vectorizer(random_char)).shape}\")"
      ],
      "metadata": {
        "colab": {
          "base_uri": "https://localhost:8080/"
        },
        "id": "_F-3Zo8MNJrM",
        "outputId": "e042e969-1fa2-443e-ed26-0250d07bedd8"
      },
      "execution_count": null,
      "outputs": [
        {
          "output_type": "stream",
          "name": "stdout",
          "text": [
            "The sentence before doing embedding t h e   i n v e s t i g a t o r   a s   w e l l   a s   t h e   p a r t i c i p a n t s   w a s   b l i n d e d   t o   t h e   s t i m u l a t i o n   m o d a l i t y   .\n",
            "The sentence after doing embedding: [[ 0.04095009  0.01682599  0.00456679 ...  0.04475734 -0.04881465\n",
            "  -0.04720157]\n",
            " [ 0.0271364   0.03855855 -0.02709887 ... -0.04839684 -0.04321203\n",
            "  -0.03630609]\n",
            " [ 0.03542869  0.03648326  0.04465586 ... -0.00757333 -0.04300729\n",
            "  -0.03132899]\n",
            " ...\n",
            " [ 0.01146061  0.00480022 -0.02353787 ...  0.02644226  0.02928121\n",
            "   0.04079255]\n",
            " [ 0.01146061  0.00480022 -0.02353787 ...  0.02644226  0.02928121\n",
            "   0.04079255]\n",
            " [ 0.01146061  0.00480022 -0.02353787 ...  0.02644226  0.02928121\n",
            "   0.04079255]]\n",
            "The shape of sentence after doing embedding (290, 25)\n"
          ]
        }
      ]
    },
    {
      "cell_type": "code",
      "source": [
        "train_char_prefetch = tf.data.Dataset.from_tensor_slices((train_char, train_labels_one_hot)).batch(32).prefetch(tf.data.AUTOTUNE)\n",
        "test_char_prefetch = tf.data.Dataset.from_tensor_slices((test_char, test_labels_one_hot)).batch(32).prefetch(tf.data.AUTOTUNE)\n",
        "val_char_predetch = tf.data.Dataset.from_tensor_slices((val_char, val_labels_one_hot)).batch(32).prefetch(tf.data.AUTOTUNE)\n",
        "train_char_prefetch"
      ],
      "metadata": {
        "id": "BwO-r_e8XRh9",
        "colab": {
          "base_uri": "https://localhost:8080/"
        },
        "outputId": "cf13f82c-4427-4f01-b2cf-06ec81fe5cb3"
      },
      "execution_count": null,
      "outputs": [
        {
          "output_type": "execute_result",
          "data": {
            "text/plain": [
              "<_PrefetchDataset element_spec=(TensorSpec(shape=(None,), dtype=tf.string, name=None), TensorSpec(shape=(None, 5), dtype=tf.float64, name=None))>"
            ]
          },
          "metadata": {},
          "execution_count": 48
        }
      ]
    },
    {
      "cell_type": "code",
      "source": [
        "import tensorflow as tf\n",
        "from tensorflow.keras.layers import Input, Embedding, Conv1D, GlobalMaxPooling1D, Dense\n",
        "from tensorflow.keras.models import Sequential\n",
        "\n",
        "# Define your preprocessing layers\n",
        "# Assuming you have defined character_vectorizer and embedding_char appropriately\n",
        "\n",
        "# Example:\n",
        "# character_vectorizer = SomeCharacterVectorizerLayer(...)\n",
        "# embedding_char = SomeEmbeddingLayer(...)\n",
        "\n",
        "# Assuming num_classes is defined\n",
        "\n",
        "model_3 = Sequential([\n",
        "    Input(shape=(1,), dtype='string'),\n",
        "    character_vectorizer,\n",
        "    embedding_char,\n",
        "    Conv1D(64, kernel_size=5, padding=\"same\", activation='relu'),\n",
        "    GlobalMaxPooling1D(),\n",
        "    Dense(num_classes, activation='softmax')\n",
        "])\n",
        "\n",
        "model_3.compile(loss='categorical_crossentropy',\n",
        "                optimizer=tf.keras.optimizers.Adam(),\n",
        "                metrics=['accuracy'])\n"
      ],
      "metadata": {
        "id": "V3I_NZgfNJuE"
      },
      "execution_count": null,
      "outputs": []
    },
    {
      "cell_type": "code",
      "source": [
        "model_3.summary()"
      ],
      "metadata": {
        "colab": {
          "base_uri": "https://localhost:8080/"
        },
        "id": "zveR0nKuNJwq",
        "outputId": "4bfe9017-04ac-4ecd-8930-4158760a7f02"
      },
      "execution_count": null,
      "outputs": [
        {
          "output_type": "stream",
          "name": "stdout",
          "text": [
            "Model: \"sequential_5\"\n",
            "_________________________________________________________________\n",
            " Layer (type)                Output Shape              Param #   \n",
            "=================================================================\n",
            " char_vectorizer (TextVecto  (None, 290)               0         \n",
            " rization)                                                       \n",
            "                                                                 \n",
            " emdding_char (Embedding)    (None, 290, 25)           1750      \n",
            "                                                                 \n",
            " conv1d_4 (Conv1D)           (None, 290, 64)           8064      \n",
            "                                                                 \n",
            " global_max_pooling1d_2 (Gl  (None, 64)                0         \n",
            " obalMaxPooling1D)                                               \n",
            "                                                                 \n",
            " dense_67 (Dense)            (None, 5)                 325       \n",
            "                                                                 \n",
            "=================================================================\n",
            "Total params: 10139 (39.61 KB)\n",
            "Trainable params: 10139 (39.61 KB)\n",
            "Non-trainable params: 0 (0.00 Byte)\n",
            "_________________________________________________________________\n"
          ]
        }
      ]
    },
    {
      "cell_type": "code",
      "source": [
        "model_3_history = model_3.fit(train_char_prefetch,\n",
        "                              steps_per_epoch = int(0.1*len(train_char_prefetch)),\n",
        "                              epochs = 5,\n",
        "                              validation_data = test_char_prefetch,\n",
        "                              validation_steps = int(0.1*len(test_char_prefetch)))"
      ],
      "metadata": {
        "colab": {
          "base_uri": "https://localhost:8080/"
        },
        "id": "vHCrOR98NJzg",
        "outputId": "46a825f0-1427-41ca-d986-ccdc35bbc4ff"
      },
      "execution_count": null,
      "outputs": [
        {
          "output_type": "stream",
          "name": "stdout",
          "text": [
            "Epoch 1/5\n",
            "562/562 [==============================] - 4s 5ms/step - loss: 1.2670 - accuracy: 0.4743 - val_loss: 1.0626 - val_accuracy: 0.5854\n",
            "Epoch 2/5\n",
            "562/562 [==============================] - 3s 5ms/step - loss: 1.0229 - accuracy: 0.5879 - val_loss: 0.9656 - val_accuracy: 0.6187\n",
            "Epoch 3/5\n",
            "562/562 [==============================] - 3s 5ms/step - loss: 0.9309 - accuracy: 0.6375 - val_loss: 0.8759 - val_accuracy: 0.6562\n",
            "Epoch 4/5\n",
            "562/562 [==============================] - 3s 5ms/step - loss: 0.8727 - accuracy: 0.6580 - val_loss: 0.8312 - val_accuracy: 0.6749\n",
            "Epoch 5/5\n",
            "562/562 [==============================] - 3s 5ms/step - loss: 0.8572 - accuracy: 0.6674 - val_loss: 0.8148 - val_accuracy: 0.6902\n"
          ]
        }
      ]
    },
    {
      "cell_type": "code",
      "source": [
        "model_3.evaluate(val_char_predetch)"
      ],
      "metadata": {
        "colab": {
          "base_uri": "https://localhost:8080/"
        },
        "id": "LKUZEiIjNJ2q",
        "outputId": "e392bd90-ecd8-48c7-924f-bb1348f4a109"
      },
      "execution_count": null,
      "outputs": [
        {
          "output_type": "stream",
          "name": "stdout",
          "text": [
            "942/942 [==============================] - 3s 3ms/step - loss: 0.8403 - accuracy: 0.6731\n"
          ]
        },
        {
          "output_type": "execute_result",
          "data": {
            "text/plain": [
              "[0.8402944803237915, 0.6731375455856323]"
            ]
          },
          "metadata": {},
          "execution_count": 296
        }
      ]
    },
    {
      "cell_type": "code",
      "source": [
        "model_3_pred = model_3.predict(val_char_predetch)\n",
        "model_3_pred = tf.argmax(model_3_pred, axis = 1)\n",
        "\n",
        "model_3_pred"
      ],
      "metadata": {
        "colab": {
          "base_uri": "https://localhost:8080/"
        },
        "id": "0WMvwN6WNJ5h",
        "outputId": "c899eff3-70b3-4ea4-91bc-9bcdf1817784"
      },
      "execution_count": null,
      "outputs": [
        {
          "output_type": "stream",
          "name": "stdout",
          "text": [
            "942/942 [==============================] - 2s 2ms/step\n"
          ]
        },
        {
          "output_type": "execute_result",
          "data": {
            "text/plain": [
              "<tf.Tensor: shape=(30135,), dtype=int64, numpy=array([1, 2, 2, ..., 4, 4, 2])>"
            ]
          },
          "metadata": {},
          "execution_count": 297
        }
      ]
    },
    {
      "cell_type": "code",
      "source": [
        "\n",
        "model_3_df = result_metrics(val_labels_encoded, model_3_pred)\n",
        "model_3_df.insert(0, \"Name_Model\", \"Model_3\")\n",
        "model_3_df"
      ],
      "metadata": {
        "colab": {
          "base_uri": "https://localhost:8080/",
          "height": 89
        },
        "id": "IfbXghexNJ8I",
        "outputId": "068e1241-3351-4776-9a9a-f303161413a7"
      },
      "execution_count": null,
      "outputs": [
        {
          "output_type": "execute_result",
          "data": {
            "text/plain": [
              "  Name_Model  accuracy  precsion    recall        f1\n",
              "0    Model_3  0.673138  0.677244  0.673138  0.667777"
            ],
            "text/html": [
              "\n",
              "  <div id=\"df-5eb62374-a36c-4377-ae92-51adf9b68815\" class=\"colab-df-container\">\n",
              "    <div>\n",
              "<style scoped>\n",
              "    .dataframe tbody tr th:only-of-type {\n",
              "        vertical-align: middle;\n",
              "    }\n",
              "\n",
              "    .dataframe tbody tr th {\n",
              "        vertical-align: top;\n",
              "    }\n",
              "\n",
              "    .dataframe thead th {\n",
              "        text-align: right;\n",
              "    }\n",
              "</style>\n",
              "<table border=\"1\" class=\"dataframe\">\n",
              "  <thead>\n",
              "    <tr style=\"text-align: right;\">\n",
              "      <th></th>\n",
              "      <th>Name_Model</th>\n",
              "      <th>accuracy</th>\n",
              "      <th>precsion</th>\n",
              "      <th>recall</th>\n",
              "      <th>f1</th>\n",
              "    </tr>\n",
              "  </thead>\n",
              "  <tbody>\n",
              "    <tr>\n",
              "      <th>0</th>\n",
              "      <td>Model_3</td>\n",
              "      <td>0.673138</td>\n",
              "      <td>0.677244</td>\n",
              "      <td>0.673138</td>\n",
              "      <td>0.667777</td>\n",
              "    </tr>\n",
              "  </tbody>\n",
              "</table>\n",
              "</div>\n",
              "    <div class=\"colab-df-buttons\">\n",
              "\n",
              "  <div class=\"colab-df-container\">\n",
              "    <button class=\"colab-df-convert\" onclick=\"convertToInteractive('df-5eb62374-a36c-4377-ae92-51adf9b68815')\"\n",
              "            title=\"Convert this dataframe to an interactive table.\"\n",
              "            style=\"display:none;\">\n",
              "\n",
              "  <svg xmlns=\"http://www.w3.org/2000/svg\" height=\"24px\" viewBox=\"0 -960 960 960\">\n",
              "    <path d=\"M120-120v-720h720v720H120Zm60-500h600v-160H180v160Zm220 220h160v-160H400v160Zm0 220h160v-160H400v160ZM180-400h160v-160H180v160Zm440 0h160v-160H620v160ZM180-180h160v-160H180v160Zm440 0h160v-160H620v160Z\"/>\n",
              "  </svg>\n",
              "    </button>\n",
              "\n",
              "  <style>\n",
              "    .colab-df-container {\n",
              "      display:flex;\n",
              "      gap: 12px;\n",
              "    }\n",
              "\n",
              "    .colab-df-convert {\n",
              "      background-color: #E8F0FE;\n",
              "      border: none;\n",
              "      border-radius: 50%;\n",
              "      cursor: pointer;\n",
              "      display: none;\n",
              "      fill: #1967D2;\n",
              "      height: 32px;\n",
              "      padding: 0 0 0 0;\n",
              "      width: 32px;\n",
              "    }\n",
              "\n",
              "    .colab-df-convert:hover {\n",
              "      background-color: #E2EBFA;\n",
              "      box-shadow: 0px 1px 2px rgba(60, 64, 67, 0.3), 0px 1px 3px 1px rgba(60, 64, 67, 0.15);\n",
              "      fill: #174EA6;\n",
              "    }\n",
              "\n",
              "    .colab-df-buttons div {\n",
              "      margin-bottom: 4px;\n",
              "    }\n",
              "\n",
              "    [theme=dark] .colab-df-convert {\n",
              "      background-color: #3B4455;\n",
              "      fill: #D2E3FC;\n",
              "    }\n",
              "\n",
              "    [theme=dark] .colab-df-convert:hover {\n",
              "      background-color: #434B5C;\n",
              "      box-shadow: 0px 1px 3px 1px rgba(0, 0, 0, 0.15);\n",
              "      filter: drop-shadow(0px 1px 2px rgba(0, 0, 0, 0.3));\n",
              "      fill: #FFFFFF;\n",
              "    }\n",
              "  </style>\n",
              "\n",
              "    <script>\n",
              "      const buttonEl =\n",
              "        document.querySelector('#df-5eb62374-a36c-4377-ae92-51adf9b68815 button.colab-df-convert');\n",
              "      buttonEl.style.display =\n",
              "        google.colab.kernel.accessAllowed ? 'block' : 'none';\n",
              "\n",
              "      async function convertToInteractive(key) {\n",
              "        const element = document.querySelector('#df-5eb62374-a36c-4377-ae92-51adf9b68815');\n",
              "        const dataTable =\n",
              "          await google.colab.kernel.invokeFunction('convertToInteractive',\n",
              "                                                    [key], {});\n",
              "        if (!dataTable) return;\n",
              "\n",
              "        const docLinkHtml = 'Like what you see? Visit the ' +\n",
              "          '<a target=\"_blank\" href=https://colab.research.google.com/notebooks/data_table.ipynb>data table notebook</a>'\n",
              "          + ' to learn more about interactive tables.';\n",
              "        element.innerHTML = '';\n",
              "        dataTable['output_type'] = 'display_data';\n",
              "        await google.colab.output.renderOutput(dataTable, element);\n",
              "        const docLink = document.createElement('div');\n",
              "        docLink.innerHTML = docLinkHtml;\n",
              "        element.appendChild(docLink);\n",
              "      }\n",
              "    </script>\n",
              "  </div>\n",
              "\n",
              "\n",
              "  <div id=\"id_8fb2a561-f6d0-4d0c-95b8-6c94530b51aa\">\n",
              "    <style>\n",
              "      .colab-df-generate {\n",
              "        background-color: #E8F0FE;\n",
              "        border: none;\n",
              "        border-radius: 50%;\n",
              "        cursor: pointer;\n",
              "        display: none;\n",
              "        fill: #1967D2;\n",
              "        height: 32px;\n",
              "        padding: 0 0 0 0;\n",
              "        width: 32px;\n",
              "      }\n",
              "\n",
              "      .colab-df-generate:hover {\n",
              "        background-color: #E2EBFA;\n",
              "        box-shadow: 0px 1px 2px rgba(60, 64, 67, 0.3), 0px 1px 3px 1px rgba(60, 64, 67, 0.15);\n",
              "        fill: #174EA6;\n",
              "      }\n",
              "\n",
              "      [theme=dark] .colab-df-generate {\n",
              "        background-color: #3B4455;\n",
              "        fill: #D2E3FC;\n",
              "      }\n",
              "\n",
              "      [theme=dark] .colab-df-generate:hover {\n",
              "        background-color: #434B5C;\n",
              "        box-shadow: 0px 1px 3px 1px rgba(0, 0, 0, 0.15);\n",
              "        filter: drop-shadow(0px 1px 2px rgba(0, 0, 0, 0.3));\n",
              "        fill: #FFFFFF;\n",
              "      }\n",
              "    </style>\n",
              "    <button class=\"colab-df-generate\" onclick=\"generateWithVariable('model_3_df')\"\n",
              "            title=\"Generate code using this dataframe.\"\n",
              "            style=\"display:none;\">\n",
              "\n",
              "  <svg xmlns=\"http://www.w3.org/2000/svg\" height=\"24px\"viewBox=\"0 0 24 24\"\n",
              "       width=\"24px\">\n",
              "    <path d=\"M7,19H8.4L18.45,9,17,7.55,7,17.6ZM5,21V16.75L18.45,3.32a2,2,0,0,1,2.83,0l1.4,1.43a1.91,1.91,0,0,1,.58,1.4,1.91,1.91,0,0,1-.58,1.4L9.25,21ZM18.45,9,17,7.55Zm-12,3A5.31,5.31,0,0,0,4.9,8.1,5.31,5.31,0,0,0,1,6.5,5.31,5.31,0,0,0,4.9,4.9,5.31,5.31,0,0,0,6.5,1,5.31,5.31,0,0,0,8.1,4.9,5.31,5.31,0,0,0,12,6.5,5.46,5.46,0,0,0,6.5,12Z\"/>\n",
              "  </svg>\n",
              "    </button>\n",
              "    <script>\n",
              "      (() => {\n",
              "      const buttonEl =\n",
              "        document.querySelector('#id_8fb2a561-f6d0-4d0c-95b8-6c94530b51aa button.colab-df-generate');\n",
              "      buttonEl.style.display =\n",
              "        google.colab.kernel.accessAllowed ? 'block' : 'none';\n",
              "\n",
              "      buttonEl.onclick = () => {\n",
              "        google.colab.notebook.generateWithVariable('model_3_df');\n",
              "      }\n",
              "      })();\n",
              "    </script>\n",
              "  </div>\n",
              "\n",
              "    </div>\n",
              "  </div>\n"
            ]
          },
          "metadata": {},
          "execution_count": 298
        }
      ]
    },
    {
      "cell_type": "markdown",
      "source": [
        "###4. Model_4 Hydrid model combines the pretrained model and character-level sequences"
      ],
      "metadata": {
        "id": "_64Doebtks1k"
      }
    },
    {
      "cell_type": "markdown",
      "source": [
        "We built the hybrid token embedding layer that is the combination of token embedding and character embedding. In other words, we built the stacked embedding to the represent sequence before passing them to the sequence label prediction layer. The first embedding that would get from the model 2 and another character embeddeing that borrow from the model 3. Building the model which takes the token, character- level sequences as the input and come through output layer to produce the label probability"
      ],
      "metadata": {
        "id": "uGFJfp16DydX"
      }
    },
    {
      "cell_type": "code",
      "source": [
        "# pretrained model\n",
        "token_inputs = layers.Input(shape = [], dtype = tf.string, name = \"token_input \")\n",
        "token_embedding = tf_hub_embedding(token_inputs)\n",
        "token_output = layers.Dense(128, activation = 'relu')(token_embedding)\n",
        "layer_1 = tf.keras.Model(inputs = token_inputs, outputs= token_output)"
      ],
      "metadata": {
        "id": "dEeNOwAlksCU"
      },
      "execution_count": null,
      "outputs": []
    },
    {
      "cell_type": "code",
      "source": [
        "# character-level sequences\n",
        "\n",
        "char_inputs = layers.Input(shape = (1,), dtype = tf.string, name = \"char_input\")\n",
        "char_vector = character_vectorizer(char_inputs)\n",
        "char_embed = embedding_char(char_vector)\n",
        "char_LSTM = layers.Bidirectional(layers.LSTM(25))(char_embed)\n",
        "layer_2 = tf.keras.Model(inputs = char_inputs,\n",
        "                             outputs = char_LSTM)\n"
      ],
      "metadata": {
        "id": "WGln_2xEksFS"
      },
      "execution_count": null,
      "outputs": []
    },
    {
      "cell_type": "code",
      "source": [
        "token_combine = layers.Concatenate(name = 'token_char_combine')([layer_1.output,\n",
        "                                                                 layer_2.output])\n",
        "\n",
        "token_dropout_1 = layers.Dropout(0.5)(token_combine)\n",
        "token_dense_1 = layers.Dense(200, activation = 'relu')(token_dropout_1)\n",
        "token_dropout_2 = layers.Dropout(0.5)(token_dense_1)\n",
        "token_dense_2 = layers.Dense(5, activation = 'softmax')(token_dropout_2)\n",
        "\n",
        "model_4= tf.keras.Model(inputs = [layer_1.input,layer_2.input],\n",
        "                        outputs = token_dense_2,\n",
        "                        name = \"model_4_combined_token_and_char\")"
      ],
      "metadata": {
        "id": "a9y63JHOksL4"
      },
      "execution_count": null,
      "outputs": []
    },
    {
      "cell_type": "code",
      "source": [
        "from tensorflow.keras.utils import plot_model\n",
        "\n",
        "model_4.summary()\n",
        "\n",
        "plot_model(model_4)"
      ],
      "metadata": {
        "colab": {
          "base_uri": "https://localhost:8080/",
          "height": 1000
        },
        "id": "0CzNfpaRksOu",
        "outputId": "87ab8103-1fcd-40e8-d797-7fa8a9dd7e3e"
      },
      "execution_count": null,
      "outputs": [
        {
          "output_type": "stream",
          "name": "stdout",
          "text": [
            "Model: \"model_4_combined_token_and_char\"\n",
            "__________________________________________________________________________________________________\n",
            " Layer (type)                Output Shape                 Param #   Connected to                  \n",
            "==================================================================================================\n",
            " char_input (InputLayer)     [(None, 1)]                  0         []                            \n",
            "                                                                                                  \n",
            " token_input  (InputLayer)   [(None,)]                    0         []                            \n",
            "                                                                                                  \n",
            " char_vectorizer (TextVecto  (None, 290)                  0         ['char_input[0][0]']          \n",
            " rization)                                                                                        \n",
            "                                                                                                  \n",
            " universial_model (KerasLay  (None, 512)                  2567978   ['token_input [0][0]']        \n",
            " er)                                                      24                                      \n",
            "                                                                                                  \n",
            " emdding_char (Embedding)    (None, 290, 25)              1750      ['char_vectorizer[2][0]']     \n",
            "                                                                                                  \n",
            " dense_68 (Dense)            (None, 128)                  65664     ['universial_model[1][0]']    \n",
            "                                                                                                  \n",
            " bidirectional_15 (Bidirect  (None, 50)                   10200     ['emdding_char[2][0]']        \n",
            " ional)                                                                                           \n",
            "                                                                                                  \n",
            " token_char_combine (Concat  (None, 178)                  0         ['dense_68[0][0]',            \n",
            " enate)                                                              'bidirectional_15[0][0]']    \n",
            "                                                                                                  \n",
            " dropout_20 (Dropout)        (None, 178)                  0         ['token_char_combine[0][0]']  \n",
            "                                                                                                  \n",
            " dense_71 (Dense)            (None, 200)                  35800     ['dropout_20[0][0]']          \n",
            "                                                                                                  \n",
            " dropout_21 (Dropout)        (None, 200)                  0         ['dense_71[0][0]']            \n",
            "                                                                                                  \n",
            " dense_72 (Dense)            (None, 5)                    1005      ['dropout_21[0][0]']          \n",
            "                                                                                                  \n",
            "==================================================================================================\n",
            "Total params: 256912243 (980.04 MB)\n",
            "Trainable params: 114419 (446.95 KB)\n",
            "Non-trainable params: 256797824 (979.61 MB)\n",
            "__________________________________________________________________________________________________\n"
          ]
        },
        {
          "output_type": "execute_result",
          "data": {
            "image/png": "[encoded data removed]",
            "text/plain": [
              "<IPython.core.display.Image object>"
            ]
          },
          "metadata": {},
          "execution_count": 305
        }
      ]
    },
    {
      "cell_type": "code",
      "source": [
        "model_4.compile(loss = 'categorical_crossentropy',\n",
        "                optimizer = tf.keras.optimizers.Adam(),\n",
        "                metrics = ['accuracy'])"
      ],
      "metadata": {
        "id": "boXfoPneksRm"
      },
      "execution_count": null,
      "outputs": []
    },
    {
      "cell_type": "markdown",
      "source": [],
      "metadata": {
        "id": "XEW5Be5gksYS"
      }
    },
    {
      "cell_type": "code",
      "source": [
        "# Combine char and token into the same dataset\n",
        "\n",
        "train_char_token = tf.data.Dataset.from_tensor_slices((train_sentences, train_char))\n",
        "train_label = tf.data.Dataset.from_tensor_slices(train_labels_one_hot)\n",
        "train_char_token_label = tf.data.Dataset.zip((train_char_token,train_label))"
      ],
      "metadata": {
        "id": "PJwY45nBrp2U"
      },
      "execution_count": null,
      "outputs": []
    },
    {
      "cell_type": "code",
      "source": [
        "train_data_prefetch = train_char_token_label.batch(32).prefetch(tf.data.AUTOTUNE)"
      ],
      "metadata": {
        "id": "z3yM8LBJrp9I"
      },
      "execution_count": null,
      "outputs": []
    },
    {
      "cell_type": "code",
      "source": [
        "val_char_token = tf.data.Dataset.from_tensor_slices((val_sentences, val_char))\n",
        "val_label = tf.data.Dataset.from_tensor_slices(val_labels_one_hot)\n",
        "val_char_token_label = tf.data.Dataset.zip((val_char_token,val_label))\n",
        "val_data_prefetch = val_char_token_label.batch(32).prefetch(tf.data.AUTOTUNE)\n"
      ],
      "metadata": {
        "id": "l_4MGqzwrqAA"
      },
      "execution_count": null,
      "outputs": []
    },
    {
      "cell_type": "code",
      "source": [
        "model_4_history = model_4.fit(train_data_prefetch,\n",
        "                              steps_per_epoch= int(0.1*(len(train_data_prefetch))),\n",
        "                              epochs = 5,\n",
        "                              validation_data = val_data_prefetch,\n",
        "                              validation_steps = int(0.1*(len(val_data_prefetch))))"
      ],
      "metadata": {
        "colab": {
          "base_uri": "https://localhost:8080/"
        },
        "id": "qfT7MII8rqDM",
        "outputId": "1ec91453-497f-4e85-be7f-2ea90ef3d1ac"
      },
      "execution_count": null,
      "outputs": [
        {
          "output_type": "stream",
          "name": "stdout",
          "text": [
            "Epoch 1/5\n",
            "562/562 [==============================] - 18s 24ms/step - loss: 0.9738 - accuracy: 0.6176 - val_loss: 0.8069 - val_accuracy: 0.6905\n",
            "Epoch 2/5\n",
            "562/562 [==============================] - 12s 22ms/step - loss: 0.7909 - accuracy: 0.6972 - val_loss: 0.7338 - val_accuracy: 0.7234\n",
            "Epoch 3/5\n",
            "562/562 [==============================] - 12s 22ms/step - loss: 0.7667 - accuracy: 0.7096 - val_loss: 0.7081 - val_accuracy: 0.7271\n",
            "Epoch 4/5\n",
            "562/562 [==============================] - 12s 22ms/step - loss: 0.7379 - accuracy: 0.7230 - val_loss: 0.6871 - val_accuracy: 0.7407\n",
            "Epoch 5/5\n",
            "562/562 [==============================] - 12s 22ms/step - loss: 0.7413 - accuracy: 0.7143 - val_loss: 0.6771 - val_accuracy: 0.7380\n"
          ]
        }
      ]
    },
    {
      "cell_type": "code",
      "source": [
        "model_4.evaluate(val_data_prefetch)"
      ],
      "metadata": {
        "colab": {
          "base_uri": "https://localhost:8080/"
        },
        "id": "ug8rjUPsrqGB",
        "outputId": "d34d2ed4-afbd-4dc6-cc5a-fb753762f820"
      },
      "execution_count": null,
      "outputs": [
        {
          "output_type": "stream",
          "name": "stdout",
          "text": [
            "942/942 [==============================] - 10s 11ms/step - loss: 0.6783 - accuracy: 0.7389\n"
          ]
        },
        {
          "output_type": "execute_result",
          "data": {
            "text/plain": [
              "[0.6782939434051514, 0.7389082312583923]"
            ]
          },
          "metadata": {},
          "execution_count": 314
        }
      ]
    },
    {
      "cell_type": "code",
      "source": [
        "model_4_pred = model_4.predict(val_data_prefetch)\n",
        "model_4_pred = tf.argmax(model_4_pred, axis = 1 )\n",
        "model_4_pred"
      ],
      "metadata": {
        "colab": {
          "base_uri": "https://localhost:8080/"
        },
        "id": "KdCHNXb2wQO9",
        "outputId": "cf807953-010f-4b36-a75b-9876233da2ba"
      },
      "execution_count": null,
      "outputs": [
        {
          "output_type": "stream",
          "name": "stdout",
          "text": [
            "942/942 [==============================] - 11s 10ms/step\n"
          ]
        },
        {
          "output_type": "execute_result",
          "data": {
            "text/plain": [
              "<tf.Tensor: shape=(30135,), dtype=int64, numpy=array([0, 2, 2, ..., 4, 4, 2])>"
            ]
          },
          "metadata": {},
          "execution_count": 315
        }
      ]
    },
    {
      "cell_type": "code",
      "source": [
        "model_4_df = result_metrics(val_labels_encoded, model_4_pred)\n",
        "model_4_df.insert(0, \"Name_Model\", \"Model_4\")\n",
        "model_4_df"
      ],
      "metadata": {
        "colab": {
          "base_uri": "https://localhost:8080/",
          "height": 89
        },
        "id": "pJ3OR56QwuLW",
        "outputId": "94e09af0-e19f-41ea-be97-27e79a633579"
      },
      "execution_count": null,
      "outputs": [
        {
          "output_type": "execute_result",
          "data": {
            "text/plain": [
              "  Name_Model  accuracy  precsion    recall        f1\n",
              "0    Model_4  0.738908  0.735668  0.738908  0.732893"
            ],
            "text/html": [
              "\n",
              "  <div id=\"df-7a0a25da-9676-4e4d-8fdf-13a7e93b1d06\" class=\"colab-df-container\">\n",
              "    <div>\n",
              "<style scoped>\n",
              "    .dataframe tbody tr th:only-of-type {\n",
              "        vertical-align: middle;\n",
              "    }\n",
              "\n",
              "    .dataframe tbody tr th {\n",
              "        vertical-align: top;\n",
              "    }\n",
              "\n",
              "    .dataframe thead th {\n",
              "        text-align: right;\n",
              "    }\n",
              "</style>\n",
              "<table border=\"1\" class=\"dataframe\">\n",
              "  <thead>\n",
              "    <tr style=\"text-align: right;\">\n",
              "      <th></th>\n",
              "      <th>Name_Model</th>\n",
              "      <th>accuracy</th>\n",
              "      <th>precsion</th>\n",
              "      <th>recall</th>\n",
              "      <th>f1</th>\n",
              "    </tr>\n",
              "  </thead>\n",
              "  <tbody>\n",
              "    <tr>\n",
              "      <th>0</th>\n",
              "      <td>Model_4</td>\n",
              "      <td>0.738908</td>\n",
              "      <td>0.735668</td>\n",
              "      <td>0.738908</td>\n",
              "      <td>0.732893</td>\n",
              "    </tr>\n",
              "  </tbody>\n",
              "</table>\n",
              "</div>\n",
              "    <div class=\"colab-df-buttons\">\n",
              "\n",
              "  <div class=\"colab-df-container\">\n",
              "    <button class=\"colab-df-convert\" onclick=\"convertToInteractive('df-7a0a25da-9676-4e4d-8fdf-13a7e93b1d06')\"\n",
              "            title=\"Convert this dataframe to an interactive table.\"\n",
              "            style=\"display:none;\">\n",
              "\n",
              "  <svg xmlns=\"http://www.w3.org/2000/svg\" height=\"24px\" viewBox=\"0 -960 960 960\">\n",
              "    <path d=\"M120-120v-720h720v720H120Zm60-500h600v-160H180v160Zm220 220h160v-160H400v160Zm0 220h160v-160H400v160ZM180-400h160v-160H180v160Zm440 0h160v-160H620v160ZM180-180h160v-160H180v160Zm440 0h160v-160H620v160Z\"/>\n",
              "  </svg>\n",
              "    </button>\n",
              "\n",
              "  <style>\n",
              "    .colab-df-container {\n",
              "      display:flex;\n",
              "      gap: 12px;\n",
              "    }\n",
              "\n",
              "    .colab-df-convert {\n",
              "      background-color: #E8F0FE;\n",
              "      border: none;\n",
              "      border-radius: 50%;\n",
              "      cursor: pointer;\n",
              "      display: none;\n",
              "      fill: #1967D2;\n",
              "      height: 32px;\n",
              "      padding: 0 0 0 0;\n",
              "      width: 32px;\n",
              "    }\n",
              "\n",
              "    .colab-df-convert:hover {\n",
              "      background-color: #E2EBFA;\n",
              "      box-shadow: 0px 1px 2px rgba(60, 64, 67, 0.3), 0px 1px 3px 1px rgba(60, 64, 67, 0.15);\n",
              "      fill: #174EA6;\n",
              "    }\n",
              "\n",
              "    .colab-df-buttons div {\n",
              "      margin-bottom: 4px;\n",
              "    }\n",
              "\n",
              "    [theme=dark] .colab-df-convert {\n",
              "      background-color: #3B4455;\n",
              "      fill: #D2E3FC;\n",
              "    }\n",
              "\n",
              "    [theme=dark] .colab-df-convert:hover {\n",
              "      background-color: #434B5C;\n",
              "      box-shadow: 0px 1px 3px 1px rgba(0, 0, 0, 0.15);\n",
              "      filter: drop-shadow(0px 1px 2px rgba(0, 0, 0, 0.3));\n",
              "      fill: #FFFFFF;\n",
              "    }\n",
              "  </style>\n",
              "\n",
              "    <script>\n",
              "      const buttonEl =\n",
              "        document.querySelector('#df-7a0a25da-9676-4e4d-8fdf-13a7e93b1d06 button.colab-df-convert');\n",
              "      buttonEl.style.display =\n",
              "        google.colab.kernel.accessAllowed ? 'block' : 'none';\n",
              "\n",
              "      async function convertToInteractive(key) {\n",
              "        const element = document.querySelector('#df-7a0a25da-9676-4e4d-8fdf-13a7e93b1d06');\n",
              "        const dataTable =\n",
              "          await google.colab.kernel.invokeFunction('convertToInteractive',\n",
              "                                                    [key], {});\n",
              "        if (!dataTable) return;\n",
              "\n",
              "        const docLinkHtml = 'Like what you see? Visit the ' +\n",
              "          '<a target=\"_blank\" href=https://colab.research.google.com/notebooks/data_table.ipynb>data table notebook</a>'\n",
              "          + ' to learn more about interactive tables.';\n",
              "        element.innerHTML = '';\n",
              "        dataTable['output_type'] = 'display_data';\n",
              "        await google.colab.output.renderOutput(dataTable, element);\n",
              "        const docLink = document.createElement('div');\n",
              "        docLink.innerHTML = docLinkHtml;\n",
              "        element.appendChild(docLink);\n",
              "      }\n",
              "    </script>\n",
              "  </div>\n",
              "\n",
              "\n",
              "  <div id=\"id_dbb7b396-6e4a-41a9-b8e1-c556acd9d113\">\n",
              "    <style>\n",
              "      .colab-df-generate {\n",
              "        background-color: #E8F0FE;\n",
              "        border: none;\n",
              "        border-radius: 50%;\n",
              "        cursor: pointer;\n",
              "        display: none;\n",
              "        fill: #1967D2;\n",
              "        height: 32px;\n",
              "        padding: 0 0 0 0;\n",
              "        width: 32px;\n",
              "      }\n",
              "\n",
              "      .colab-df-generate:hover {\n",
              "        background-color: #E2EBFA;\n",
              "        box-shadow: 0px 1px 2px rgba(60, 64, 67, 0.3), 0px 1px 3px 1px rgba(60, 64, 67, 0.15);\n",
              "        fill: #174EA6;\n",
              "      }\n",
              "\n",
              "      [theme=dark] .colab-df-generate {\n",
              "        background-color: #3B4455;\n",
              "        fill: #D2E3FC;\n",
              "      }\n",
              "\n",
              "      [theme=dark] .colab-df-generate:hover {\n",
              "        background-color: #434B5C;\n",
              "        box-shadow: 0px 1px 3px 1px rgba(0, 0, 0, 0.15);\n",
              "        filter: drop-shadow(0px 1px 2px rgba(0, 0, 0, 0.3));\n",
              "        fill: #FFFFFF;\n",
              "      }\n",
              "    </style>\n",
              "    <button class=\"colab-df-generate\" onclick=\"generateWithVariable('model_4_df')\"\n",
              "            title=\"Generate code using this dataframe.\"\n",
              "            style=\"display:none;\">\n",
              "\n",
              "  <svg xmlns=\"http://www.w3.org/2000/svg\" height=\"24px\"viewBox=\"0 0 24 24\"\n",
              "       width=\"24px\">\n",
              "    <path d=\"M7,19H8.4L18.45,9,17,7.55,7,17.6ZM5,21V16.75L18.45,3.32a2,2,0,0,1,2.83,0l1.4,1.43a1.91,1.91,0,0,1,.58,1.4,1.91,1.91,0,0,1-.58,1.4L9.25,21ZM18.45,9,17,7.55Zm-12,3A5.31,5.31,0,0,0,4.9,8.1,5.31,5.31,0,0,0,1,6.5,5.31,5.31,0,0,0,4.9,4.9,5.31,5.31,0,0,0,6.5,1,5.31,5.31,0,0,0,8.1,4.9,5.31,5.31,0,0,0,12,6.5,5.46,5.46,0,0,0,6.5,12Z\"/>\n",
              "  </svg>\n",
              "    </button>\n",
              "    <script>\n",
              "      (() => {\n",
              "      const buttonEl =\n",
              "        document.querySelector('#id_dbb7b396-6e4a-41a9-b8e1-c556acd9d113 button.colab-df-generate');\n",
              "      buttonEl.style.display =\n",
              "        google.colab.kernel.accessAllowed ? 'block' : 'none';\n",
              "\n",
              "      buttonEl.onclick = () => {\n",
              "        google.colab.notebook.generateWithVariable('model_4_df');\n",
              "      }\n",
              "      })();\n",
              "    </script>\n",
              "  </div>\n",
              "\n",
              "    </div>\n",
              "  </div>\n"
            ]
          },
          "metadata": {},
          "execution_count": 316
        }
      ]
    },
    {
      "cell_type": "markdown",
      "source": [
        "#### Model 5: Transfer Learning with pretrained token embedding, character embedding, transitional embedding"
      ],
      "metadata": {
        "id": "PIVuB7XfNYhX"
      }
    },
    {
      "cell_type": "markdown",
      "source": [
        "The fourth model appears to show better potential for improvement compared to the previous ones. In this iteration, we aim to enhance the model's performance by incorporating additional features. Given that the taglines in each segment follow a specific order and the length of each part contributes to its uniqueness, Model 5 will be updated by including two additional features: line number and total lines, as part of the input.\n",
        "\n",
        "\n",
        "\n",
        "\n"
      ],
      "metadata": {
        "id": "--iC8_E8FRpz"
      }
    },
    {
      "cell_type": "markdown",
      "source": [
        "Tranfer the line number into one hot"
      ],
      "metadata": {
        "id": "wsDOCHKSQmiS"
      }
    },
    {
      "cell_type": "code",
      "source": [
        "train_df['line_number'].hist(figsize = (15,6))"
      ],
      "metadata": {
        "colab": {
          "base_uri": "https://localhost:8080/",
          "height": 292
        },
        "id": "PhZXk8htOOHY",
        "outputId": "48c7c058-3b96-45b7-b3c0-e8a72ec41882"
      },
      "execution_count": null,
      "outputs": [
        {
          "output_type": "execute_result",
          "data": {
            "text/plain": [
              "<Axes: >"
            ]
          },
          "metadata": {},
          "execution_count": 380
        },
        {
          "output_type": "display_data",
          "data": {
            "text/plain": [
              "<Figure size 1500x600 with 1 Axes>"
            ],
            "image/png": "[encoded data removed]"
          },
          "metadata": {}
        }
      ]
    },
    {
      "cell_type": "markdown",
      "source": [
        "The plot show the primary line number is equal to or less than 15"
      ],
      "metadata": {
        "id": "7m0dDR1FUmwR"
      }
    },
    {
      "cell_type": "code",
      "source": [
        "train_line_number_one_hot = tf.one_hot(train_df['line_number'].to_numpy(), depth = 15)\n",
        "val_line_number_one_hot = tf.one_hot(val_df['line_number'].to_numpy(), depth = 15)\n",
        "test_line_number_one_hot = tf.one_hot(test_df['line_number'].to_numpy(), depth = 15)"
      ],
      "metadata": {
        "id": "OXSsaLgLOja8"
      },
      "execution_count": null,
      "outputs": []
    },
    {
      "cell_type": "code",
      "source": [
        "print(f\"The shape of the train line number one hot: {train_line_number_one_hot.shape}\")\n",
        "print(f\"The train line number one hot: {train_line_number_one_hot[:20]}\")"
      ],
      "metadata": {
        "colab": {
          "base_uri": "https://localhost:8080/"
        },
        "id": "MxUeETeDOjeR",
        "outputId": "2abf6046-ed58-495f-a869-a9fc3e936636"
      },
      "execution_count": null,
      "outputs": [
        {
          "output_type": "stream",
          "name": "stdout",
          "text": [
            "The shape of the train line number one hot: (180040, 15)\n",
            "The train line number one hot: [[1. 0. 0. 0. 0. 0. 0. 0. 0. 0. 0. 0. 0. 0. 0.]\n",
            " [0. 1. 0. 0. 0. 0. 0. 0. 0. 0. 0. 0. 0. 0. 0.]\n",
            " [0. 0. 1. 0. 0. 0. 0. 0. 0. 0. 0. 0. 0. 0. 0.]\n",
            " [0. 0. 0. 1. 0. 0. 0. 0. 0. 0. 0. 0. 0. 0. 0.]\n",
            " [0. 0. 0. 0. 1. 0. 0. 0. 0. 0. 0. 0. 0. 0. 0.]\n",
            " [0. 0. 0. 0. 0. 1. 0. 0. 0. 0. 0. 0. 0. 0. 0.]\n",
            " [0. 0. 0. 0. 0. 0. 1. 0. 0. 0. 0. 0. 0. 0. 0.]\n",
            " [0. 0. 0. 0. 0. 0. 0. 1. 0. 0. 0. 0. 0. 0. 0.]\n",
            " [0. 0. 0. 0. 0. 0. 0. 0. 1. 0. 0. 0. 0. 0. 0.]\n",
            " [0. 0. 0. 0. 0. 0. 0. 0. 0. 1. 0. 0. 0. 0. 0.]\n",
            " [0. 0. 0. 0. 0. 0. 0. 0. 0. 0. 1. 0. 0. 0. 0.]\n",
            " [0. 0. 0. 0. 0. 0. 0. 0. 0. 0. 0. 1. 0. 0. 0.]\n",
            " [1. 0. 0. 0. 0. 0. 0. 0. 0. 0. 0. 0. 0. 0. 0.]\n",
            " [0. 1. 0. 0. 0. 0. 0. 0. 0. 0. 0. 0. 0. 0. 0.]\n",
            " [0. 0. 1. 0. 0. 0. 0. 0. 0. 0. 0. 0. 0. 0. 0.]\n",
            " [0. 0. 0. 1. 0. 0. 0. 0. 0. 0. 0. 0. 0. 0. 0.]\n",
            " [0. 0. 0. 0. 1. 0. 0. 0. 0. 0. 0. 0. 0. 0. 0.]\n",
            " [0. 0. 0. 0. 0. 1. 0. 0. 0. 0. 0. 0. 0. 0. 0.]\n",
            " [0. 0. 0. 0. 0. 0. 1. 0. 0. 0. 0. 0. 0. 0. 0.]\n",
            " [0. 0. 0. 0. 0. 0. 0. 1. 0. 0. 0. 0. 0. 0. 0.]]\n"
          ]
        }
      ]
    },
    {
      "cell_type": "code",
      "source": [
        "# Transfer total line number of an article into one hot"
      ],
      "metadata": {
        "id": "kEjQqBVUOjkk"
      },
      "execution_count": null,
      "outputs": []
    },
    {
      "cell_type": "code",
      "source": [
        "train_df['total_lines'].plot.hist(figsize = (15,5))"
      ],
      "metadata": {
        "colab": {
          "base_uri": "https://localhost:8080/",
          "height": 250
        },
        "id": "vQyHPBd1Ojm0",
        "outputId": "662ecd36-0fc8-47f8-c0ac-11a5e79d075e"
      },
      "execution_count": null,
      "outputs": [
        {
          "output_type": "execute_result",
          "data": {
            "text/plain": [
              "<Axes: ylabel='Frequency'>"
            ]
          },
          "metadata": {},
          "execution_count": 385
        },
        {
          "output_type": "display_data",
          "data": {
            "text/plain": [
              "<Figure size 1500x500 with 1 Axes>"
            ],
            "image/png": "[encoded data removed]"
          },
          "metadata": {}
        }
      ]
    },
    {
      "cell_type": "code",
      "source": [
        "np.percentile(train_df['total_lines'], 98)"
      ],
      "metadata": {
        "colab": {
          "base_uri": "https://localhost:8080/"
        },
        "id": "t97bXhk4Ojof",
        "outputId": "250b2c94-ba2a-47a0-af1f-636c35ddca73"
      },
      "execution_count": null,
      "outputs": [
        {
          "output_type": "execute_result",
          "data": {
            "text/plain": [
              "21.0"
            ]
          },
          "metadata": {},
          "execution_count": 323
        }
      ]
    },
    {
      "cell_type": "code",
      "source": [
        "train_total_line_one_hot = tf.one_hot(train_df['total_lines'].to_numpy(), depth = 20)\n",
        "test_total_line_one_hot = tf.one_hot(test_df['total_lines'].to_numpy(), depth = 20)\n",
        "val_total_line_one_hot = tf.one_hot(val_df['total_lines'].to_numpy(), depth = 20)"
      ],
      "metadata": {
        "id": "Elv5pUPzRSVg"
      },
      "execution_count": null,
      "outputs": []
    },
    {
      "cell_type": "code",
      "source": [
        "print(f\"The shape of one hot encoded total line in train dataset: {train_total_line_one_hot.shape} \")\n",
        "print(f\"The one hot encoded total line in train dataset: {train_total_line_one_hot[:20]}\")"
      ],
      "metadata": {
        "colab": {
          "base_uri": "https://localhost:8080/"
        },
        "id": "yZnoM9SJRv8L",
        "outputId": "f5c61dc0-d760-488e-938a-5e387249f625"
      },
      "execution_count": null,
      "outputs": [
        {
          "output_type": "stream",
          "name": "stdout",
          "text": [
            "The shape of one hot encoded total line in train dataset: (180040, 20) \n",
            "The one hot encoded total line in train dataset: [[0. 0. 0. 0. 0. 0. 0. 0. 0. 0. 0. 1. 0. 0. 0. 0. 0. 0. 0. 0.]\n",
            " [0. 0. 0. 0. 0. 0. 0. 0. 0. 0. 0. 1. 0. 0. 0. 0. 0. 0. 0. 0.]\n",
            " [0. 0. 0. 0. 0. 0. 0. 0. 0. 0. 0. 1. 0. 0. 0. 0. 0. 0. 0. 0.]\n",
            " [0. 0. 0. 0. 0. 0. 0. 0. 0. 0. 0. 1. 0. 0. 0. 0. 0. 0. 0. 0.]\n",
            " [0. 0. 0. 0. 0. 0. 0. 0. 0. 0. 0. 1. 0. 0. 0. 0. 0. 0. 0. 0.]\n",
            " [0. 0. 0. 0. 0. 0. 0. 0. 0. 0. 0. 1. 0. 0. 0. 0. 0. 0. 0. 0.]\n",
            " [0. 0. 0. 0. 0. 0. 0. 0. 0. 0. 0. 1. 0. 0. 0. 0. 0. 0. 0. 0.]\n",
            " [0. 0. 0. 0. 0. 0. 0. 0. 0. 0. 0. 1. 0. 0. 0. 0. 0. 0. 0. 0.]\n",
            " [0. 0. 0. 0. 0. 0. 0. 0. 0. 0. 0. 1. 0. 0. 0. 0. 0. 0. 0. 0.]\n",
            " [0. 0. 0. 0. 0. 0. 0. 0. 0. 0. 0. 1. 0. 0. 0. 0. 0. 0. 0. 0.]\n",
            " [0. 0. 0. 0. 0. 0. 0. 0. 0. 0. 0. 1. 0. 0. 0. 0. 0. 0. 0. 0.]\n",
            " [0. 0. 0. 0. 0. 0. 0. 0. 0. 0. 0. 1. 0. 0. 0. 0. 0. 0. 0. 0.]\n",
            " [0. 0. 0. 0. 0. 0. 0. 0. 0. 0. 1. 0. 0. 0. 0. 0. 0. 0. 0. 0.]\n",
            " [0. 0. 0. 0. 0. 0. 0. 0. 0. 0. 1. 0. 0. 0. 0. 0. 0. 0. 0. 0.]\n",
            " [0. 0. 0. 0. 0. 0. 0. 0. 0. 0. 1. 0. 0. 0. 0. 0. 0. 0. 0. 0.]\n",
            " [0. 0. 0. 0. 0. 0. 0. 0. 0. 0. 1. 0. 0. 0. 0. 0. 0. 0. 0. 0.]\n",
            " [0. 0. 0. 0. 0. 0. 0. 0. 0. 0. 1. 0. 0. 0. 0. 0. 0. 0. 0. 0.]\n",
            " [0. 0. 0. 0. 0. 0. 0. 0. 0. 0. 1. 0. 0. 0. 0. 0. 0. 0. 0. 0.]\n",
            " [0. 0. 0. 0. 0. 0. 0. 0. 0. 0. 1. 0. 0. 0. 0. 0. 0. 0. 0. 0.]\n",
            " [0. 0. 0. 0. 0. 0. 0. 0. 0. 0. 1. 0. 0. 0. 0. 0. 0. 0. 0. 0.]]\n"
          ]
        }
      ]
    },
    {
      "cell_type": "code",
      "source": [
        "# 1./ token inputs\n",
        "token_inputs = layers.Input(shape = [], dtype = 'string', name = 'token inputs')\n",
        "token_embedding = tf_hub_embedding(token_inputs)\n",
        "token_output = layers.Dense(128, activation = \"relu\")(token_embedding)\n",
        "token_model = tf.keras.Model(inputs = token_inputs, outputs = token_output)\n",
        "\n",
        "# 2./ character inputs\n",
        "char_inputs = layers.Input(shape= (1,), dtype = 'string', name = 'char inputs')\n",
        "char_vector = character_vectorizer(char_inputs)\n",
        "char_embed = embedding_char(char_vector)\n",
        "char_LSTM = layers.Bidirectional(layers.LSTM(32))(char_embed)\n",
        "character_model = tf.keras.Model(inputs = char_inputs,\n",
        "                             outputs = char_LSTM)\n",
        "\n",
        "#3./ total line inputs\n",
        "total_lines_input = layers.Input(shape = (20,), dtype = tf.int32, name = \"total_line_inputs\")\n",
        "total_line_dense = layers.Dense(32, activation = 'relu')(total_lines_input)\n",
        "total_line_model = tf.keras.Model(inputs = total_lines_input,\n",
        "                                  outputs = total_line_dense)\n",
        "\n",
        "#4./ line number inputs\n",
        "line_number_inputs = layers.Input(shape = (15,), dtype = tf.int32, name = 'line_number_inputs')\n",
        "line_number_dense = layers.Dense(32, activation = 'relu')(line_number_inputs)\n",
        "line_number_model = tf.keras.Model(inputs = line_number_inputs,\n",
        "                                   outputs = line_number_dense)\n",
        "\n",
        "#5./ Combining token inputs and character inputs\n",
        "combining_layer = layers.Concatenate(name = 'token_character')([token_model.output,\n",
        "                                                                character_model.output])\n",
        "combining_dense = layers.Dense(256, activation = \"relu\")(combining_layer)\n",
        "combining_dropout = layers.Dropout(0.5)(combining_dense)\n",
        "\n",
        "# 6./ Combining token-character layers with total line model and line number model\n",
        "combining_layer_2 = layers.Concatenate(name = 'combining_layer')([total_line_model.output,\n",
        "                                                                  line_number_model.output,\n",
        "                                                                  combining_dropout])\n",
        "\n",
        "combining_dense_f = layers.Dense(5, activation = 'softmax', name = 'final_layer')(combining_layer_2)\n",
        "model_5 = tf.keras.Model(inputs = [token_model.input,\n",
        "                                   character_model.input,\n",
        "                                   total_line_model.input,\n",
        "                                   line_number_model.input],\n",
        "                         outputs = combining_dense_f )\n",
        "\n",
        "model_5.compile(loss=tf.keras.losses.CategoricalCrossentropy(label_smoothing=0.2), # add label smoothing (examples which are really confident get smoothed a little)\n",
        "                optimizer=tf.keras.optimizers.Adam(),\n",
        "                metrics=[\"accuracy\"])"
      ],
      "metadata": {
        "id": "8gEKRRa-paqs"
      },
      "execution_count": null,
      "outputs": []
    },
    {
      "cell_type": "markdown",
      "source": [],
      "metadata": {
        "id": "GTgAFjGhrnfP"
      }
    },
    {
      "cell_type": "code",
      "source": [
        "model_5.summary()"
      ],
      "metadata": {
        "colab": {
          "base_uri": "https://localhost:8080/"
        },
        "id": "0iIb_hlSquZK",
        "outputId": "61b924b9-9623-43b2-8236-687b4a2f61ba"
      },
      "execution_count": null,
      "outputs": [
        {
          "output_type": "stream",
          "name": "stdout",
          "text": [
            "Model: \"model_109\"\n",
            "__________________________________________________________________________________________________\n",
            " Layer (type)                Output Shape                 Param #   Connected to                  \n",
            "==================================================================================================\n",
            " char inputs (InputLayer)    [(None, 1)]                  0         []                            \n",
            "                                                                                                  \n",
            " token inputs (InputLayer)   [(None,)]                    0         []                            \n",
            "                                                                                                  \n",
            " char_vectorizer (TextVecto  (None, 290)                  0         ['char inputs[0][0]']         \n",
            " rization)                                                                                        \n",
            "                                                                                                  \n",
            " universial_model (KerasLay  (None, 512)                  2567978   ['token inputs[0][0]']        \n",
            " er)                                                      24                                      \n",
            "                                                                                                  \n",
            " emdding_char (Embedding)    (None, 290, 25)              1750      ['char_vectorizer[0][0]']     \n",
            "                                                                                                  \n",
            " dense_103 (Dense)           (None, 128)                  65664     ['universial_model[0][0]']    \n",
            "                                                                                                  \n",
            " bidirectional_23 (Bidirect  (None, 64)                   14848     ['emdding_char[7][0]']        \n",
            " ional)                                                                                           \n",
            "                                                                                                  \n",
            " token_character (Concatena  (None, 192)                  0         ['dense_103[0][0]',           \n",
            " te)                                                                 'bidirectional_23[0][0]']    \n",
            "                                                                                                  \n",
            " total_line_inputs (InputLa  [(None, 20)]                 0         []                            \n",
            " yer)                                                                                             \n",
            "                                                                                                  \n",
            " line_number_inputs (InputL  [(None, 15)]                 0         []                            \n",
            " ayer)                                                                                            \n",
            "                                                                                                  \n",
            " dense_106 (Dense)           (None, 256)                  49408     ['token_character[0][0]']     \n",
            "                                                                                                  \n",
            " dense_104 (Dense)           (None, 32)                   672       ['total_line_inputs[0][0]']   \n",
            "                                                                                                  \n",
            " dense_105 (Dense)           (None, 32)                   512       ['line_number_inputs[0][0]']  \n",
            "                                                                                                  \n",
            " dropout_29 (Dropout)        (None, 256)                  0         ['dense_106[0][0]']           \n",
            "                                                                                                  \n",
            " combining_layer (Concatena  (None, 320)                  0         ['dense_104[0][0]',           \n",
            " te)                                                                 'dense_105[0][0]',           \n",
            "                                                                     'dropout_29[0][0]']          \n",
            "                                                                                                  \n",
            " final_layer (Dense)         (None, 5)                    1605      ['combining_layer[0][0]']     \n",
            "                                                                                                  \n",
            "==================================================================================================\n",
            "Total params: 256932283 (980.12 MB)\n",
            "Trainable params: 134459 (525.23 KB)\n",
            "Non-trainable params: 256797824 (979.61 MB)\n",
            "__________________________________________________________________________________________________\n"
          ]
        }
      ]
    },
    {
      "cell_type": "code",
      "source": [
        "plot_model(model_5)"
      ],
      "metadata": {
        "colab": {
          "base_uri": "https://localhost:8080/",
          "height": 548
        },
        "id": "yOk3laGy1x5L",
        "outputId": "ec33c090-7945-4e28-8fdd-b13461a299b1"
      },
      "execution_count": null,
      "outputs": [
        {
          "output_type": "execute_result",
          "data": {
            "image/png": "[encoded data removed]",
            "text/plain": [
              "<IPython.core.display.Image object>"
            ]
          },
          "metadata": {},
          "execution_count": 461
        }
      ]
    },
    {
      "cell_type": "code",
      "source": [
        "train_model_5_data = tf.data.Dataset.from_tensor_slices((train_line_number_one_hot,\n",
        "                                                         train_total_line_one_hot,\n",
        "                                                         train_sentences,\n",
        "                                                         train_char))\n",
        "\n",
        "train_model_5_label = tf.data.Dataset.from_tensor_slices(train_labels_one_hot)\n",
        "\n",
        "train_model_5_dataset = tf.data.Dataset.zip((train_model_5_data, train_model_5_label))\n",
        "\n",
        "train_model_5_dataset = train_model_5_dataset.batch(32).prefetch(tf.data.AUTOTUNE)\n",
        "\n"
      ],
      "metadata": {
        "id": "w-2BglT0wJ8P"
      },
      "execution_count": null,
      "outputs": []
    },
    {
      "cell_type": "code",
      "source": [
        "len(val_line_number_one_hot), len(val_total_line_one_hot), len(val_sentences), len(val_char)"
      ],
      "metadata": {
        "colab": {
          "base_uri": "https://localhost:8080/"
        },
        "id": "un7wL4n6LPHu",
        "outputId": "664db48f-41d6-49a0-e0cd-9a5a1924f9a7"
      },
      "execution_count": null,
      "outputs": [
        {
          "output_type": "execute_result",
          "data": {
            "text/plain": [
              "(30135, 30135, 30135, 30135)"
            ]
          },
          "metadata": {},
          "execution_count": 463
        }
      ]
    },
    {
      "cell_type": "code",
      "source": [
        "val_model_5_data = tf.data.Dataset.from_tensor_slices((val_line_number_one_hot,\n",
        "                                                         val_total_line_one_hot,\n",
        "                                                         val_sentences,\n",
        "                                                         val_char))\n",
        "\n",
        "val_model_5_label = tf.data.Dataset.from_tensor_slices(val_labels_one_hot)\n",
        "\n",
        "val_model_5_dataset = tf.data.Dataset.zip((val_model_5_data, val_model_5_label))\n",
        "\n",
        "val_model_5_dataset = val_model_5_dataset.batch(32).prefetch(tf.data.AUTOTUNE)"
      ],
      "metadata": {
        "id": "OJD4FZmZ0P__"
      },
      "execution_count": null,
      "outputs": []
    },
    {
      "cell_type": "code",
      "source": [
        "history_model_5 = model_5.fit(train_model_5_dataset,\n",
        "                              steps_per_epoch=int(0.1 * len(train_model_5_dataset)),\n",
        "                              epochs=3,\n",
        "                              validation_data=val_model_5_dataset,\n",
        "                              validation_steps=int(0.1 * len(val_model_5_dataset)))"
      ],
      "metadata": {
        "colab": {
          "base_uri": "https://localhost:8080/"
        },
        "id": "2JHSzxA7Zq30",
        "outputId": "747118ef-3bbd-40dc-ba51-9daa3b5e8ddf"
      },
      "execution_count": null,
      "outputs": [
        {
          "output_type": "stream",
          "name": "stdout",
          "text": [
            "Epoch 1/3\n",
            "562/562 [==============================] - 13s 24ms/step - loss: 0.9448 - accuracy: 0.8306 - val_loss: 0.9317 - val_accuracy: 0.8341\n",
            "Epoch 2/3\n",
            "562/562 [==============================] - 13s 23ms/step - loss: 0.9254 - accuracy: 0.8448 - val_loss: 0.9251 - val_accuracy: 0.8411\n",
            "Epoch 3/3\n",
            "562/562 [==============================] - 13s 23ms/step - loss: 0.9230 - accuracy: 0.8425 - val_loss: 0.9245 - val_accuracy: 0.8378\n"
          ]
        }
      ]
    },
    {
      "cell_type": "code",
      "source": [
        "model_5_pred = model_5.predict(val_pos_char_token_dataset, verbose = 1)\n",
        "model_5_pred"
      ],
      "metadata": {
        "colab": {
          "base_uri": "https://localhost:8080/"
        },
        "id": "cLXMYY_PeuI5",
        "outputId": "d41b7828-8b05-4d91-fe2b-ed7631fb627f"
      },
      "execution_count": null,
      "outputs": [
        {
          "output_type": "stream",
          "name": "stdout",
          "text": [
            "945/945 [==============================] - 12s 12ms/step\n"
          ]
        },
        {
          "output_type": "execute_result",
          "data": {
            "text/plain": [
              "array([[0.51060873, 0.1021139 , 0.01357946, 0.35677668, 0.01692115],\n",
              "       [0.5573089 , 0.10143069, 0.05582482, 0.2752545 , 0.01018108],\n",
              "       [0.31521985, 0.09963059, 0.11144072, 0.4094913 , 0.06421757],\n",
              "       ...,\n",
              "       [0.03787327, 0.10745428, 0.04010564, 0.03351078, 0.7810561 ],\n",
              "       [0.0285746 , 0.3630924 , 0.05377201, 0.02586759, 0.5286934 ],\n",
              "       [0.19173639, 0.6878314 , 0.05187658, 0.03794219, 0.03061343]],\n",
              "      dtype=float32)"
            ]
          },
          "metadata": {},
          "execution_count": 560
        }
      ]
    },
    {
      "cell_type": "code",
      "source": [
        "model_5_prediction = tf.argmax(model_5_pred, axis = 1)\n",
        "model_5_prediction"
      ],
      "metadata": {
        "colab": {
          "base_uri": "https://localhost:8080/"
        },
        "id": "ZsD5ejRYfDh0",
        "outputId": "15681625-6b3e-4eab-e48d-303749a85137"
      },
      "execution_count": null,
      "outputs": [
        {
          "output_type": "execute_result",
          "data": {
            "text/plain": [
              "<tf.Tensor: shape=(30212,), dtype=int64, numpy=array([0, 0, 3, ..., 4, 4, 1])>"
            ]
          },
          "metadata": {},
          "execution_count": 562
        }
      ]
    },
    {
      "cell_type": "code",
      "source": [
        "model_5_df = result_metrics(val_labels_encoded, model_5_prediction)\n",
        "model_5_df.insert(0, \"Name_Model\", \"Model_5\")\n",
        "model_5_df"
      ],
      "metadata": {
        "colab": {
          "base_uri": "https://localhost:8080/",
          "height": 89
        },
        "id": "h3nFsmxZeq18",
        "outputId": "9edc0fc7-b5b3-4a51-c349-419bdffb0500"
      },
      "execution_count": null,
      "outputs": [
        {
          "output_type": "execute_result",
          "data": {
            "text/plain": [
              "  Name_Model  accuracy  precsion    recall        f1\n",
              "0    Model_5  0.842513  0.841781  0.842513  0.841394"
            ],
            "text/html": [
              "\n",
              "  <div id=\"df-e5a2be66-187c-4c6b-8c0a-145d8dac2b05\" class=\"colab-df-container\">\n",
              "    <div>\n",
              "<style scoped>\n",
              "    .dataframe tbody tr th:only-of-type {\n",
              "        vertical-align: middle;\n",
              "    }\n",
              "\n",
              "    .dataframe tbody tr th {\n",
              "        vertical-align: top;\n",
              "    }\n",
              "\n",
              "    .dataframe thead th {\n",
              "        text-align: right;\n",
              "    }\n",
              "</style>\n",
              "<table border=\"1\" class=\"dataframe\">\n",
              "  <thead>\n",
              "    <tr style=\"text-align: right;\">\n",
              "      <th></th>\n",
              "      <th>Name_Model</th>\n",
              "      <th>accuracy</th>\n",
              "      <th>precsion</th>\n",
              "      <th>recall</th>\n",
              "      <th>f1</th>\n",
              "    </tr>\n",
              "  </thead>\n",
              "  <tbody>\n",
              "    <tr>\n",
              "      <th>0</th>\n",
              "      <td>Model_5</td>\n",
              "      <td>0.842513</td>\n",
              "      <td>0.841781</td>\n",
              "      <td>0.842513</td>\n",
              "      <td>0.841394</td>\n",
              "    </tr>\n",
              "  </tbody>\n",
              "</table>\n",
              "</div>\n",
              "    <div class=\"colab-df-buttons\">\n",
              "\n",
              "  <div class=\"colab-df-container\">\n",
              "    <button class=\"colab-df-convert\" onclick=\"convertToInteractive('df-e5a2be66-187c-4c6b-8c0a-145d8dac2b05')\"\n",
              "            title=\"Convert this dataframe to an interactive table.\"\n",
              "            style=\"display:none;\">\n",
              "\n",
              "  <svg xmlns=\"http://www.w3.org/2000/svg\" height=\"24px\" viewBox=\"0 -960 960 960\">\n",
              "    <path d=\"M120-120v-720h720v720H120Zm60-500h600v-160H180v160Zm220 220h160v-160H400v160Zm0 220h160v-160H400v160ZM180-400h160v-160H180v160Zm440 0h160v-160H620v160ZM180-180h160v-160H180v160Zm440 0h160v-160H620v160Z\"/>\n",
              "  </svg>\n",
              "    </button>\n",
              "\n",
              "  <style>\n",
              "    .colab-df-container {\n",
              "      display:flex;\n",
              "      gap: 12px;\n",
              "    }\n",
              "\n",
              "    .colab-df-convert {\n",
              "      background-color: #E8F0FE;\n",
              "      border: none;\n",
              "      border-radius: 50%;\n",
              "      cursor: pointer;\n",
              "      display: none;\n",
              "      fill: #1967D2;\n",
              "      height: 32px;\n",
              "      padding: 0 0 0 0;\n",
              "      width: 32px;\n",
              "    }\n",
              "\n",
              "    .colab-df-convert:hover {\n",
              "      background-color: #E2EBFA;\n",
              "      box-shadow: 0px 1px 2px rgba(60, 64, 67, 0.3), 0px 1px 3px 1px rgba(60, 64, 67, 0.15);\n",
              "      fill: #174EA6;\n",
              "    }\n",
              "\n",
              "    .colab-df-buttons div {\n",
              "      margin-bottom: 4px;\n",
              "    }\n",
              "\n",
              "    [theme=dark] .colab-df-convert {\n",
              "      background-color: #3B4455;\n",
              "      fill: #D2E3FC;\n",
              "    }\n",
              "\n",
              "    [theme=dark] .colab-df-convert:hover {\n",
              "      background-color: #434B5C;\n",
              "      box-shadow: 0px 1px 3px 1px rgba(0, 0, 0, 0.15);\n",
              "      filter: drop-shadow(0px 1px 2px rgba(0, 0, 0, 0.3));\n",
              "      fill: #FFFFFF;\n",
              "    }\n",
              "  </style>\n",
              "\n",
              "    <script>\n",
              "      const buttonEl =\n",
              "        document.querySelector('#df-e5a2be66-187c-4c6b-8c0a-145d8dac2b05 button.colab-df-convert');\n",
              "      buttonEl.style.display =\n",
              "        google.colab.kernel.accessAllowed ? 'block' : 'none';\n",
              "\n",
              "      async function convertToInteractive(key) {\n",
              "        const element = document.querySelector('#df-e5a2be66-187c-4c6b-8c0a-145d8dac2b05');\n",
              "        const dataTable =\n",
              "          await google.colab.kernel.invokeFunction('convertToInteractive',\n",
              "                                                    [key], {});\n",
              "        if (!dataTable) return;\n",
              "\n",
              "        const docLinkHtml = 'Like what you see? Visit the ' +\n",
              "          '<a target=\"_blank\" href=https://colab.research.google.com/notebooks/data_table.ipynb>data table notebook</a>'\n",
              "          + ' to learn more about interactive tables.';\n",
              "        element.innerHTML = '';\n",
              "        dataTable['output_type'] = 'display_data';\n",
              "        await google.colab.output.renderOutput(dataTable, element);\n",
              "        const docLink = document.createElement('div');\n",
              "        docLink.innerHTML = docLinkHtml;\n",
              "        element.appendChild(docLink);\n",
              "      }\n",
              "    </script>\n",
              "  </div>\n",
              "\n",
              "\n",
              "  <div id=\"id_8a5817f8-cd6b-47c7-ad4b-4f66857cbc2c\">\n",
              "    <style>\n",
              "      .colab-df-generate {\n",
              "        background-color: #E8F0FE;\n",
              "        border: none;\n",
              "        border-radius: 50%;\n",
              "        cursor: pointer;\n",
              "        display: none;\n",
              "        fill: #1967D2;\n",
              "        height: 32px;\n",
              "        padding: 0 0 0 0;\n",
              "        width: 32px;\n",
              "      }\n",
              "\n",
              "      .colab-df-generate:hover {\n",
              "        background-color: #E2EBFA;\n",
              "        box-shadow: 0px 1px 2px rgba(60, 64, 67, 0.3), 0px 1px 3px 1px rgba(60, 64, 67, 0.15);\n",
              "        fill: #174EA6;\n",
              "      }\n",
              "\n",
              "      [theme=dark] .colab-df-generate {\n",
              "        background-color: #3B4455;\n",
              "        fill: #D2E3FC;\n",
              "      }\n",
              "\n",
              "      [theme=dark] .colab-df-generate:hover {\n",
              "        background-color: #434B5C;\n",
              "        box-shadow: 0px 1px 3px 1px rgba(0, 0, 0, 0.15);\n",
              "        filter: drop-shadow(0px 1px 2px rgba(0, 0, 0, 0.3));\n",
              "        fill: #FFFFFF;\n",
              "      }\n",
              "    </style>\n",
              "    <button class=\"colab-df-generate\" onclick=\"generateWithVariable('model_5_df')\"\n",
              "            title=\"Generate code using this dataframe.\"\n",
              "            style=\"display:none;\">\n",
              "\n",
              "  <svg xmlns=\"http://www.w3.org/2000/svg\" height=\"24px\"viewBox=\"0 0 24 24\"\n",
              "       width=\"24px\">\n",
              "    <path d=\"M7,19H8.4L18.45,9,17,7.55,7,17.6ZM5,21V16.75L18.45,3.32a2,2,0,0,1,2.83,0l1.4,1.43a1.91,1.91,0,0,1,.58,1.4,1.91,1.91,0,0,1-.58,1.4L9.25,21ZM18.45,9,17,7.55Zm-12,3A5.31,5.31,0,0,0,4.9,8.1,5.31,5.31,0,0,0,1,6.5,5.31,5.31,0,0,0,4.9,4.9,5.31,5.31,0,0,0,6.5,1,5.31,5.31,0,0,0,8.1,4.9,5.31,5.31,0,0,0,12,6.5,5.46,5.46,0,0,0,6.5,12Z\"/>\n",
              "  </svg>\n",
              "    </button>\n",
              "    <script>\n",
              "      (() => {\n",
              "      const buttonEl =\n",
              "        document.querySelector('#id_8a5817f8-cd6b-47c7-ad4b-4f66857cbc2c button.colab-df-generate');\n",
              "      buttonEl.style.display =\n",
              "        google.colab.kernel.accessAllowed ? 'block' : 'none';\n",
              "\n",
              "      buttonEl.onclick = () => {\n",
              "        google.colab.notebook.generateWithVariable('model_5_df');\n",
              "      }\n",
              "      })();\n",
              "    </script>\n",
              "  </div>\n",
              "\n",
              "    </div>\n",
              "  </div>\n"
            ]
          },
          "metadata": {},
          "execution_count": 565
        }
      ]
    },
    {
      "cell_type": "code",
      "source": [
        "df_result = pd.concat([model_0_df,model_1_df, model_2_df, model_3_df, model_4_df, model_5_df], axis = 0)\n",
        "df_result"
      ],
      "metadata": {
        "colab": {
          "base_uri": "https://localhost:8080/",
          "height": 238
        },
        "id": "161Fny-HfzM2",
        "outputId": "e3c2f2ef-46e9-420e-b7b3-e3c787c8efff"
      },
      "execution_count": null,
      "outputs": [
        {
          "output_type": "execute_result",
          "data": {
            "text/plain": [
              "  Name_Model  accuracy  precsion    recall        f1\n",
              "0   Baseline  0.716675  0.712432  0.716675  0.692510\n",
              "0    Model_1  0.781981  0.779739  0.781981  0.779988\n",
              "0    Model_2  0.721686  0.716740  0.721686  0.716257\n",
              "0    Model_3  0.673138  0.677244  0.673138  0.667777\n",
              "0    Model_4  0.738908  0.735668  0.738908  0.732893\n",
              "0    Model_5  0.842513  0.841781  0.842513  0.841394"
            ],
            "text/html": [
              "\n",
              "  <div id=\"df-117a7369-58a5-486d-ae34-1fe4e1aafbed\" class=\"colab-df-container\">\n",
              "    <div>\n",
              "<style scoped>\n",
              "    .dataframe tbody tr th:only-of-type {\n",
              "        vertical-align: middle;\n",
              "    }\n",
              "\n",
              "    .dataframe tbody tr th {\n",
              "        vertical-align: top;\n",
              "    }\n",
              "\n",
              "    .dataframe thead th {\n",
              "        text-align: right;\n",
              "    }\n",
              "</style>\n",
              "<table border=\"1\" class=\"dataframe\">\n",
              "  <thead>\n",
              "    <tr style=\"text-align: right;\">\n",
              "      <th></th>\n",
              "      <th>Name_Model</th>\n",
              "      <th>accuracy</th>\n",
              "      <th>precsion</th>\n",
              "      <th>recall</th>\n",
              "      <th>f1</th>\n",
              "    </tr>\n",
              "  </thead>\n",
              "  <tbody>\n",
              "    <tr>\n",
              "      <th>0</th>\n",
              "      <td>Baseline</td>\n",
              "      <td>0.716675</td>\n",
              "      <td>0.712432</td>\n",
              "      <td>0.716675</td>\n",
              "      <td>0.692510</td>\n",
              "    </tr>\n",
              "    <tr>\n",
              "      <th>0</th>\n",
              "      <td>Model_1</td>\n",
              "      <td>0.781981</td>\n",
              "      <td>0.779739</td>\n",
              "      <td>0.781981</td>\n",
              "      <td>0.779988</td>\n",
              "    </tr>\n",
              "    <tr>\n",
              "      <th>0</th>\n",
              "      <td>Model_2</td>\n",
              "      <td>0.721686</td>\n",
              "      <td>0.716740</td>\n",
              "      <td>0.721686</td>\n",
              "      <td>0.716257</td>\n",
              "    </tr>\n",
              "    <tr>\n",
              "      <th>0</th>\n",
              "      <td>Model_3</td>\n",
              "      <td>0.673138</td>\n",
              "      <td>0.677244</td>\n",
              "      <td>0.673138</td>\n",
              "      <td>0.667777</td>\n",
              "    </tr>\n",
              "    <tr>\n",
              "      <th>0</th>\n",
              "      <td>Model_4</td>\n",
              "      <td>0.738908</td>\n",
              "      <td>0.735668</td>\n",
              "      <td>0.738908</td>\n",
              "      <td>0.732893</td>\n",
              "    </tr>\n",
              "    <tr>\n",
              "      <th>0</th>\n",
              "      <td>Model_5</td>\n",
              "      <td>0.842513</td>\n",
              "      <td>0.841781</td>\n",
              "      <td>0.842513</td>\n",
              "      <td>0.841394</td>\n",
              "    </tr>\n",
              "  </tbody>\n",
              "</table>\n",
              "</div>\n",
              "    <div class=\"colab-df-buttons\">\n",
              "\n",
              "  <div class=\"colab-df-container\">\n",
              "    <button class=\"colab-df-convert\" onclick=\"convertToInteractive('df-117a7369-58a5-486d-ae34-1fe4e1aafbed')\"\n",
              "            title=\"Convert this dataframe to an interactive table.\"\n",
              "            style=\"display:none;\">\n",
              "\n",
              "  <svg xmlns=\"http://www.w3.org/2000/svg\" height=\"24px\" viewBox=\"0 -960 960 960\">\n",
              "    <path d=\"M120-120v-720h720v720H120Zm60-500h600v-160H180v160Zm220 220h160v-160H400v160Zm0 220h160v-160H400v160ZM180-400h160v-160H180v160Zm440 0h160v-160H620v160ZM180-180h160v-160H180v160Zm440 0h160v-160H620v160Z\"/>\n",
              "  </svg>\n",
              "    </button>\n",
              "\n",
              "  <style>\n",
              "    .colab-df-container {\n",
              "      display:flex;\n",
              "      gap: 12px;\n",
              "    }\n",
              "\n",
              "    .colab-df-convert {\n",
              "      background-color: #E8F0FE;\n",
              "      border: none;\n",
              "      border-radius: 50%;\n",
              "      cursor: pointer;\n",
              "      display: none;\n",
              "      fill: #1967D2;\n",
              "      height: 32px;\n",
              "      padding: 0 0 0 0;\n",
              "      width: 32px;\n",
              "    }\n",
              "\n",
              "    .colab-df-convert:hover {\n",
              "      background-color: #E2EBFA;\n",
              "      box-shadow: 0px 1px 2px rgba(60, 64, 67, 0.3), 0px 1px 3px 1px rgba(60, 64, 67, 0.15);\n",
              "      fill: #174EA6;\n",
              "    }\n",
              "\n",
              "    .colab-df-buttons div {\n",
              "      margin-bottom: 4px;\n",
              "    }\n",
              "\n",
              "    [theme=dark] .colab-df-convert {\n",
              "      background-color: #3B4455;\n",
              "      fill: #D2E3FC;\n",
              "    }\n",
              "\n",
              "    [theme=dark] .colab-df-convert:hover {\n",
              "      background-color: #434B5C;\n",
              "      box-shadow: 0px 1px 3px 1px rgba(0, 0, 0, 0.15);\n",
              "      filter: drop-shadow(0px 1px 2px rgba(0, 0, 0, 0.3));\n",
              "      fill: #FFFFFF;\n",
              "    }\n",
              "  </style>\n",
              "\n",
              "    <script>\n",
              "      const buttonEl =\n",
              "        document.querySelector('#df-117a7369-58a5-486d-ae34-1fe4e1aafbed button.colab-df-convert');\n",
              "      buttonEl.style.display =\n",
              "        google.colab.kernel.accessAllowed ? 'block' : 'none';\n",
              "\n",
              "      async function convertToInteractive(key) {\n",
              "        const element = document.querySelector('#df-117a7369-58a5-486d-ae34-1fe4e1aafbed');\n",
              "        const dataTable =\n",
              "          await google.colab.kernel.invokeFunction('convertToInteractive',\n",
              "                                                    [key], {});\n",
              "        if (!dataTable) return;\n",
              "\n",
              "        const docLinkHtml = 'Like what you see? Visit the ' +\n",
              "          '<a target=\"_blank\" href=https://colab.research.google.com/notebooks/data_table.ipynb>data table notebook</a>'\n",
              "          + ' to learn more about interactive tables.';\n",
              "        element.innerHTML = '';\n",
              "        dataTable['output_type'] = 'display_data';\n",
              "        await google.colab.output.renderOutput(dataTable, element);\n",
              "        const docLink = document.createElement('div');\n",
              "        docLink.innerHTML = docLinkHtml;\n",
              "        element.appendChild(docLink);\n",
              "      }\n",
              "    </script>\n",
              "  </div>\n",
              "\n",
              "\n",
              "<div id=\"df-99e45f42-8a75-4b1e-bf74-cf4d051ab113\">\n",
              "  <button class=\"colab-df-quickchart\" onclick=\"quickchart('df-99e45f42-8a75-4b1e-bf74-cf4d051ab113')\"\n",
              "            title=\"Suggest charts\"\n",
              "            style=\"display:none;\">\n",
              "\n",
              "<svg xmlns=\"http://www.w3.org/2000/svg\" height=\"24px\"viewBox=\"0 0 24 24\"\n",
              "     width=\"24px\">\n",
              "    <g>\n",
              "        <path d=\"M19 3H5c-1.1 0-2 .9-2 2v14c0 1.1.9 2 2 2h14c1.1 0 2-.9 2-2V5c0-1.1-.9-2-2-2zM9 17H7v-7h2v7zm4 0h-2V7h2v10zm4 0h-2v-4h2v4z\"/>\n",
              "    </g>\n",
              "</svg>\n",
              "  </button>\n",
              "\n",
              "<style>\n",
              "  .colab-df-quickchart {\n",
              "      --bg-color: #E8F0FE;\n",
              "      --fill-color: #1967D2;\n",
              "      --hover-bg-color: #E2EBFA;\n",
              "      --hover-fill-color: #174EA6;\n",
              "      --disabled-fill-color: #AAA;\n",
              "      --disabled-bg-color: #DDD;\n",
              "  }\n",
              "\n",
              "  [theme=dark] .colab-df-quickchart {\n",
              "      --bg-color: #3B4455;\n",
              "      --fill-color: #D2E3FC;\n",
              "      --hover-bg-color: #434B5C;\n",
              "      --hover-fill-color: #FFFFFF;\n",
              "      --disabled-bg-color: #3B4455;\n",
              "      --disabled-fill-color: #666;\n",
              "  }\n",
              "\n",
              "  .colab-df-quickchart {\n",
              "    background-color: var(--bg-color);\n",
              "    border: none;\n",
              "    border-radius: 50%;\n",
              "    cursor: pointer;\n",
              "    display: none;\n",
              "    fill: var(--fill-color);\n",
              "    height: 32px;\n",
              "    padding: 0;\n",
              "    width: 32px;\n",
              "  }\n",
              "\n",
              "  .colab-df-quickchart:hover {\n",
              "    background-color: var(--hover-bg-color);\n",
              "    box-shadow: 0 1px 2px rgba(60, 64, 67, 0.3), 0 1px 3px 1px rgba(60, 64, 67, 0.15);\n",
              "    fill: var(--button-hover-fill-color);\n",
              "  }\n",
              "\n",
              "  .colab-df-quickchart-complete:disabled,\n",
              "  .colab-df-quickchart-complete:disabled:hover {\n",
              "    background-color: var(--disabled-bg-color);\n",
              "    fill: var(--disabled-fill-color);\n",
              "    box-shadow: none;\n",
              "  }\n",
              "\n",
              "  .colab-df-spinner {\n",
              "    border: 2px solid var(--fill-color);\n",
              "    border-color: transparent;\n",
              "    border-bottom-color: var(--fill-color);\n",
              "    animation:\n",
              "      spin 1s steps(1) infinite;\n",
              "  }\n",
              "\n",
              "  @keyframes spin {\n",
              "    0% {\n",
              "      border-color: transparent;\n",
              "      border-bottom-color: var(--fill-color);\n",
              "      border-left-color: var(--fill-color);\n",
              "    }\n",
              "    20% {\n",
              "      border-color: transparent;\n",
              "      border-left-color: var(--fill-color);\n",
              "      border-top-color: var(--fill-color);\n",
              "    }\n",
              "    30% {\n",
              "      border-color: transparent;\n",
              "      border-left-color: var(--fill-color);\n",
              "      border-top-color: var(--fill-color);\n",
              "      border-right-color: var(--fill-color);\n",
              "    }\n",
              "    40% {\n",
              "      border-color: transparent;\n",
              "      border-right-color: var(--fill-color);\n",
              "      border-top-color: var(--fill-color);\n",
              "    }\n",
              "    60% {\n",
              "      border-color: transparent;\n",
              "      border-right-color: var(--fill-color);\n",
              "    }\n",
              "    80% {\n",
              "      border-color: transparent;\n",
              "      border-right-color: var(--fill-color);\n",
              "      border-bottom-color: var(--fill-color);\n",
              "    }\n",
              "    90% {\n",
              "      border-color: transparent;\n",
              "      border-bottom-color: var(--fill-color);\n",
              "    }\n",
              "  }\n",
              "</style>\n",
              "\n",
              "  <script>\n",
              "    async function quickchart(key) {\n",
              "      const quickchartButtonEl =\n",
              "        document.querySelector('#' + key + ' button');\n",
              "      quickchartButtonEl.disabled = true;  // To prevent multiple clicks.\n",
              "      quickchartButtonEl.classList.add('colab-df-spinner');\n",
              "      try {\n",
              "        const charts = await google.colab.kernel.invokeFunction(\n",
              "            'suggestCharts', [key], {});\n",
              "      } catch (error) {\n",
              "        console.error('Error during call to suggestCharts:', error);\n",
              "      }\n",
              "      quickchartButtonEl.classList.remove('colab-df-spinner');\n",
              "      quickchartButtonEl.classList.add('colab-df-quickchart-complete');\n",
              "    }\n",
              "    (() => {\n",
              "      let quickchartButtonEl =\n",
              "        document.querySelector('#df-99e45f42-8a75-4b1e-bf74-cf4d051ab113 button');\n",
              "      quickchartButtonEl.style.display =\n",
              "        google.colab.kernel.accessAllowed ? 'block' : 'none';\n",
              "    })();\n",
              "  </script>\n",
              "</div>\n",
              "\n",
              "  <div id=\"id_d9da3ca9-60d7-44f7-ad49-9069bbba23f9\">\n",
              "    <style>\n",
              "      .colab-df-generate {\n",
              "        background-color: #E8F0FE;\n",
              "        border: none;\n",
              "        border-radius: 50%;\n",
              "        cursor: pointer;\n",
              "        display: none;\n",
              "        fill: #1967D2;\n",
              "        height: 32px;\n",
              "        padding: 0 0 0 0;\n",
              "        width: 32px;\n",
              "      }\n",
              "\n",
              "      .colab-df-generate:hover {\n",
              "        background-color: #E2EBFA;\n",
              "        box-shadow: 0px 1px 2px rgba(60, 64, 67, 0.3), 0px 1px 3px 1px rgba(60, 64, 67, 0.15);\n",
              "        fill: #174EA6;\n",
              "      }\n",
              "\n",
              "      [theme=dark] .colab-df-generate {\n",
              "        background-color: #3B4455;\n",
              "        fill: #D2E3FC;\n",
              "      }\n",
              "\n",
              "      [theme=dark] .colab-df-generate:hover {\n",
              "        background-color: #434B5C;\n",
              "        box-shadow: 0px 1px 3px 1px rgba(0, 0, 0, 0.15);\n",
              "        filter: drop-shadow(0px 1px 2px rgba(0, 0, 0, 0.3));\n",
              "        fill: #FFFFFF;\n",
              "      }\n",
              "    </style>\n",
              "    <button class=\"colab-df-generate\" onclick=\"generateWithVariable('df_result')\"\n",
              "            title=\"Generate code using this dataframe.\"\n",
              "            style=\"display:none;\">\n",
              "\n",
              "  <svg xmlns=\"http://www.w3.org/2000/svg\" height=\"24px\"viewBox=\"0 0 24 24\"\n",
              "       width=\"24px\">\n",
              "    <path d=\"M7,19H8.4L18.45,9,17,7.55,7,17.6ZM5,21V16.75L18.45,3.32a2,2,0,0,1,2.83,0l1.4,1.43a1.91,1.91,0,0,1,.58,1.4,1.91,1.91,0,0,1-.58,1.4L9.25,21ZM18.45,9,17,7.55Zm-12,3A5.31,5.31,0,0,0,4.9,8.1,5.31,5.31,0,0,0,1,6.5,5.31,5.31,0,0,0,4.9,4.9,5.31,5.31,0,0,0,6.5,1,5.31,5.31,0,0,0,8.1,4.9,5.31,5.31,0,0,0,12,6.5,5.46,5.46,0,0,0,6.5,12Z\"/>\n",
              "  </svg>\n",
              "    </button>\n",
              "    <script>\n",
              "      (() => {\n",
              "      const buttonEl =\n",
              "        document.querySelector('#id_d9da3ca9-60d7-44f7-ad49-9069bbba23f9 button.colab-df-generate');\n",
              "      buttonEl.style.display =\n",
              "        google.colab.kernel.accessAllowed ? 'block' : 'none';\n",
              "\n",
              "      buttonEl.onclick = () => {\n",
              "        google.colab.notebook.generateWithVariable('df_result');\n",
              "      }\n",
              "      })();\n",
              "    </script>\n",
              "  </div>\n",
              "\n",
              "    </div>\n",
              "  </div>\n"
            ]
          },
          "metadata": {},
          "execution_count": 705
        }
      ]
    },
    {
      "cell_type": "code",
      "source": [
        "df_result.plot(kind = 'bar', figsize = (10,7)).legend(bbox_to_anchor = (1.0, 1.0))\n"
      ],
      "metadata": {
        "colab": {
          "base_uri": "https://localhost:8080/",
          "height": 419
        },
        "id": "c5JAcuvcwJsA",
        "outputId": "5a647bf4-921f-40d6-f90b-bceece0a12a8"
      },
      "execution_count": null,
      "outputs": [
        {
          "output_type": "execute_result",
          "data": {
            "text/plain": [
              "<matplotlib.legend.Legend at 0x7f620c1e23e0>"
            ]
          },
          "metadata": {},
          "execution_count": 714
        },
        {
          "output_type": "display_data",
          "data": {
            "text/plain": [
              "<Figure size 1000x700 with 1 Axes>"
            ],
            "image/png": "[encoded data removed]"
          },
          "metadata": {}
        }
      ]
    },
    {
      "cell_type": "code",
      "source": [
        "sns.barplot(x = \"Name_Model\", y = 'f1', data = df_result)"
      ],
      "metadata": {
        "colab": {
          "base_uri": "https://localhost:8080/",
          "height": 468
        },
        "id": "M58PSAAMw3RM",
        "outputId": "dbe21ddf-095c-44b1-af9c-51aa45f227bb"
      },
      "execution_count": null,
      "outputs": [
        {
          "output_type": "execute_result",
          "data": {
            "text/plain": [
              "<Axes: xlabel='Name_Model', ylabel='f1'>"
            ]
          },
          "metadata": {},
          "execution_count": 716
        },
        {
          "output_type": "display_data",
          "data": {
            "text/plain": [
              "<Figure size 640x480 with 1 Axes>"
            ],
            "image/png": "[encoded data removed]"
          },
          "metadata": {}
        }
      ]
    },
    {
      "cell_type": "markdown",
      "source": [
        "The model 5 is seemly the best model with high accuracy so far. However, we just trained only 20.000 sentences out of 180000 sequences in the the dataset. We need to expand the project in some ways like hypertunner parameters, test the performance on the testset."
      ],
      "metadata": {
        "id": "tiDMRVyCH7VZ"
      }
    }
  ]
}